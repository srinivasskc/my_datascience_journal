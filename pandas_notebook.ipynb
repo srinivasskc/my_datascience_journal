{
 "cells": [
  {
   "cell_type": "markdown",
   "id": "f4c4c9a6",
   "metadata": {},
   "source": [
    "Pandas Course"
   ]
  },
  {
   "cell_type": "code",
   "execution_count": 2,
   "id": "e7d46401",
   "metadata": {},
   "outputs": [],
   "source": [
    "import pandas as pd"
   ]
  },
  {
   "cell_type": "code",
   "execution_count": 3,
   "id": "a1fbf0ea",
   "metadata": {},
   "outputs": [
    {
     "data": {
      "text/plain": [
       "'2.3.1'"
      ]
     },
     "execution_count": 3,
     "metadata": {},
     "output_type": "execute_result"
    }
   ],
   "source": [
    "pd.__version__\n",
    "# This script checks the version of the pandas library installed in the environment.\n"
   ]
  },
  {
   "cell_type": "markdown",
   "id": "b3d9cdb4",
   "metadata": {},
   "source": [
    "Pandas Series and Series Operations"
   ]
  },
  {
   "cell_type": "markdown",
   "id": "3946cf2b",
   "metadata": {},
   "source": [
    "Series is a one-dimensional array, like object that can hold various data types, including integer, float and strings."
   ]
  },
  {
   "cell_type": "code",
   "execution_count": 4,
   "id": "1138565d",
   "metadata": {},
   "outputs": [
    {
     "data": {
      "text/plain": [
       "a     10\n",
       "b     20\n",
       "c     30\n",
       "d    6.0\n",
       "e    7.0\n",
       "f    8.0\n",
       "g    Jan\n",
       "h    Feb\n",
       "i    Mar\n",
       "dtype: object"
      ]
     },
     "execution_count": 4,
     "metadata": {},
     "output_type": "execute_result"
    }
   ],
   "source": [
    "my_series_mixed = pd.Series([10,20,30,6.0,7.0,8.0,\"Jan\",\"Feb\",\"Mar\"], index=[\"a\",\"b\",\"c\",\"d\",\"e\",\"f\",\"g\",\"h\",\"i\"])\n",
    "my_series_mixed\n"
   ]
  },
  {
   "cell_type": "code",
   "execution_count": 5,
   "id": "4725bd63",
   "metadata": {},
   "outputs": [
    {
     "data": {
      "text/plain": [
       "pandas.core.series.Series"
      ]
     },
     "execution_count": 5,
     "metadata": {},
     "output_type": "execute_result"
    }
   ],
   "source": [
    "type(my_series_mixed)"
   ]
  },
  {
   "cell_type": "code",
   "execution_count": 6,
   "id": "9ec81475",
   "metadata": {},
   "outputs": [
    {
     "data": {
      "text/plain": [
       "a    10\n",
       "b    20\n",
       "c    30\n",
       "dtype: int64"
      ]
     },
     "execution_count": 6,
     "metadata": {},
     "output_type": "execute_result"
    }
   ],
   "source": [
    "my_series_int = pd.Series([10,20,30], index=[\"a\",\"b\",\"c\"])\n",
    "my_series_int\n"
   ]
  },
  {
   "cell_type": "code",
   "execution_count": 7,
   "id": "4dd791b6",
   "metadata": {},
   "outputs": [
    {
     "data": {
      "text/plain": [
       "pandas.core.series.Series"
      ]
     },
     "execution_count": 7,
     "metadata": {},
     "output_type": "execute_result"
    }
   ],
   "source": [
    "type(my_series_int)"
   ]
  },
  {
   "cell_type": "code",
   "execution_count": 8,
   "id": "1d84fbde",
   "metadata": {},
   "outputs": [
    {
     "data": {
      "text/plain": [
       "a    6.0\n",
       "b    7.0\n",
       "c    8.0\n",
       "dtype: float64"
      ]
     },
     "execution_count": 8,
     "metadata": {},
     "output_type": "execute_result"
    }
   ],
   "source": [
    "my_series_float = pd.Series([6.0,7.0,8.0], index=[\"a\",\"b\",\"c\"])\n",
    "my_series_float\n"
   ]
  },
  {
   "cell_type": "code",
   "execution_count": 9,
   "id": "23fd5afa",
   "metadata": {},
   "outputs": [
    {
     "data": {
      "text/plain": [
       "pandas.core.series.Series"
      ]
     },
     "execution_count": 9,
     "metadata": {},
     "output_type": "execute_result"
    }
   ],
   "source": [
    "type(my_series_float)"
   ]
  },
  {
   "cell_type": "code",
   "execution_count": 10,
   "id": "858f58be",
   "metadata": {},
   "outputs": [
    {
     "data": {
      "text/plain": [
       "a    Jan\n",
       "b    Feb\n",
       "c    Mar\n",
       "dtype: object"
      ]
     },
     "execution_count": 10,
     "metadata": {},
     "output_type": "execute_result"
    }
   ],
   "source": [
    "my_series_month = pd.Series([\"Jan\",\"Feb\",\"Mar\"], index=[\"a\",\"b\",\"c\"])\n",
    "my_series_month\n"
   ]
  },
  {
   "cell_type": "code",
   "execution_count": 11,
   "id": "747a25b9",
   "metadata": {},
   "outputs": [
    {
     "data": {
      "text/plain": [
       "pandas.core.series.Series"
      ]
     },
     "execution_count": 11,
     "metadata": {},
     "output_type": "execute_result"
    }
   ],
   "source": [
    "type(my_series_month)"
   ]
  },
  {
   "cell_type": "code",
   "execution_count": 12,
   "id": "bf218ef6",
   "metadata": {},
   "outputs": [
    {
     "data": {
      "text/plain": [
       "a    Jan\n",
       "b    Feb\n",
       "c    Mar\n",
       "dtype: object"
      ]
     },
     "execution_count": 12,
     "metadata": {},
     "output_type": "execute_result"
    }
   ],
   "source": [
    "my_series_month"
   ]
  },
  {
   "cell_type": "code",
   "execution_count": 13,
   "id": "7e29e934",
   "metadata": {},
   "outputs": [
    {
     "data": {
      "text/plain": [
       "'Jan'"
      ]
     },
     "execution_count": 13,
     "metadata": {},
     "output_type": "execute_result"
    }
   ],
   "source": [
    "my_series_month[\"a\"]  # Accessing the first element of the series"
   ]
  },
  {
   "cell_type": "code",
   "execution_count": 14,
   "id": "fdc3af1f",
   "metadata": {},
   "outputs": [
    {
     "data": {
      "text/plain": [
       "b     20\n",
       "c     30\n",
       "d    6.0\n",
       "dtype: object"
      ]
     },
     "execution_count": 14,
     "metadata": {},
     "output_type": "execute_result"
    }
   ],
   "source": [
    "my_series_mixed[\"b\":\"d\"] # Accessing a slice of the series from index 'b' to 'd'"
   ]
  },
  {
   "cell_type": "code",
   "execution_count": 15,
   "id": "d0b46163",
   "metadata": {},
   "outputs": [
    {
     "data": {
      "text/plain": [
       "a    10\n",
       "b    20\n",
       "c    30\n",
       "dtype: int64"
      ]
     },
     "execution_count": 15,
     "metadata": {},
     "output_type": "execute_result"
    }
   ],
   "source": [
    "my_series_int\n"
   ]
  },
  {
   "cell_type": "code",
   "execution_count": 16,
   "id": "c24d68d7",
   "metadata": {},
   "outputs": [
    {
     "data": {
      "text/plain": [
       "a    15\n",
       "b    25\n",
       "c    35\n",
       "dtype: int64"
      ]
     },
     "execution_count": 16,
     "metadata": {},
     "output_type": "execute_result"
    }
   ],
   "source": [
    "my_series_int + 5\n",
    "# Adding 5 to each element in the integer series"
   ]
  },
  {
   "cell_type": "code",
   "execution_count": 17,
   "id": "6ecfc8a6",
   "metadata": {},
   "outputs": [
    {
     "data": {
      "text/plain": [
       "a    6.0\n",
       "b    7.0\n",
       "c    8.0\n",
       "dtype: float64"
      ]
     },
     "execution_count": 17,
     "metadata": {},
     "output_type": "execute_result"
    }
   ],
   "source": [
    "my_series_float\n"
   ]
  },
  {
   "cell_type": "code",
   "execution_count": 18,
   "id": "eb0dc42a",
   "metadata": {},
   "outputs": [
    {
     "data": {
      "text/plain": [
       "a    12.0\n",
       "b    14.0\n",
       "c    16.0\n",
       "dtype: float64"
      ]
     },
     "execution_count": 18,
     "metadata": {},
     "output_type": "execute_result"
    }
   ],
   "source": [
    "my_series_float * 2\n",
    "# Multiplying each element in the float series by 2"
   ]
  },
  {
   "cell_type": "code",
   "execution_count": 19,
   "id": "fbf976ec",
   "metadata": {},
   "outputs": [
    {
     "data": {
      "text/plain": [
       "a    6.0\n",
       "b    7.0\n",
       "c    8.0\n",
       "dtype: float64"
      ]
     },
     "execution_count": 19,
     "metadata": {},
     "output_type": "execute_result"
    }
   ],
   "source": [
    "my_series_float\n"
   ]
  },
  {
   "cell_type": "code",
   "execution_count": 20,
   "id": "ea767668",
   "metadata": {},
   "outputs": [
    {
     "data": {
      "text/plain": [
       "a    3.0\n",
       "b    3.5\n",
       "c    4.0\n",
       "dtype: float64"
      ]
     },
     "execution_count": 20,
     "metadata": {},
     "output_type": "execute_result"
    }
   ],
   "source": [
    "my_series_float / 2\n",
    "# Dividing each element in the float series by 2"
   ]
  },
  {
   "cell_type": "code",
   "execution_count": 21,
   "id": "a2032453",
   "metadata": {},
   "outputs": [
    {
     "data": {
      "text/plain": [
       "a    6.0\n",
       "b    7.0\n",
       "c    8.0\n",
       "dtype: float64"
      ]
     },
     "execution_count": 21,
     "metadata": {},
     "output_type": "execute_result"
    }
   ],
   "source": [
    "my_series_float\n"
   ]
  },
  {
   "cell_type": "markdown",
   "id": "5416f81e",
   "metadata": {},
   "source": [
    "Series - Data Types"
   ]
  },
  {
   "cell_type": "code",
   "execution_count": 22,
   "id": "8008e5cc",
   "metadata": {},
   "outputs": [
    {
     "data": {
      "text/plain": [
       "pandas.core.series.Series"
      ]
     },
     "execution_count": 22,
     "metadata": {},
     "output_type": "execute_result"
    }
   ],
   "source": [
    "type(my_series_float)\n",
    "\n",
    "# This returns the Python type of the object my_series_float.\n",
    "#  It tells you that my_series_float is a Pandas Series object.\n",
    "# <class 'pandas.core.series.Series'>"
   ]
  },
  {
   "cell_type": "code",
   "execution_count": 23,
   "id": "0887fcf8",
   "metadata": {},
   "outputs": [
    {
     "data": {
      "text/plain": [
       "dtype('float64')"
      ]
     },
     "execution_count": 23,
     "metadata": {},
     "output_type": "execute_result"
    }
   ],
   "source": [
    "my_series_float.dtype\n",
    "# This returns type of the data inside the Series\n",
    "# It tells you that the data stored in the Series is of type float64.\n"
   ]
  },
  {
   "cell_type": "code",
   "execution_count": 24,
   "id": "dec99a7e",
   "metadata": {},
   "outputs": [
    {
     "data": {
      "text/plain": [
       "numpy.float64"
      ]
     },
     "execution_count": 24,
     "metadata": {},
     "output_type": "execute_result"
    }
   ],
   "source": [
    "type(my_series_float[\"a\"])\n",
    "\n",
    "# This returns the type of a single element from the Series, not the Series itself."
   ]
  },
  {
   "cell_type": "markdown",
   "id": "9cbb4fb8",
   "metadata": {},
   "source": [
    "Series Methods"
   ]
  },
  {
   "cell_type": "code",
   "execution_count": 25,
   "id": "4f60505a",
   "metadata": {},
   "outputs": [
    {
     "data": {
      "text/plain": [
       "3"
      ]
     },
     "execution_count": 25,
     "metadata": {},
     "output_type": "execute_result"
    }
   ],
   "source": [
    "my_series_float.size \n",
    "# This returns the number of elements in the Series.\n"
   ]
  },
  {
   "cell_type": "code",
   "execution_count": 26,
   "id": "1dc93153",
   "metadata": {},
   "outputs": [
    {
     "data": {
      "text/plain": [
       "(3,)"
      ]
     },
     "execution_count": 26,
     "metadata": {},
     "output_type": "execute_result"
    }
   ],
   "source": [
    "my_series_float.shape\n",
    "# This returns the shape of the Series, which is a tuple representing its dimensions.\n",
    "# For a 1D Series, it will return (n,), where n is the number of elements in the Series."
   ]
  },
  {
   "cell_type": "code",
   "execution_count": 27,
   "id": "bead3d1e",
   "metadata": {},
   "outputs": [
    {
     "data": {
      "text/plain": [
       "a     10\n",
       "b     20\n",
       "c     30\n",
       "d    6.0\n",
       "e    7.0\n",
       "f    8.0\n",
       "g    Jan\n",
       "h    Feb\n",
       "i    Mar\n",
       "dtype: object"
      ]
     },
     "execution_count": 27,
     "metadata": {},
     "output_type": "execute_result"
    }
   ],
   "source": [
    "my_series_mixed\n"
   ]
  },
  {
   "cell_type": "code",
   "execution_count": 28,
   "id": "c9dc4e17",
   "metadata": {},
   "outputs": [
    {
     "data": {
      "text/plain": [
       "a     10\n",
       "b     20\n",
       "c     30\n",
       "d    6.0\n",
       "e    7.0\n",
       "dtype: object"
      ]
     },
     "execution_count": 28,
     "metadata": {},
     "output_type": "execute_result"
    }
   ],
   "source": [
    "my_series_mixed.head()\n",
    "# This returns the first 5 elements of the Series. \n",
    "# If the Series has fewer than 5 elements, it returns all of them."
   ]
  },
  {
   "cell_type": "code",
   "execution_count": 29,
   "id": "60f76a1a",
   "metadata": {},
   "outputs": [
    {
     "data": {
      "text/plain": [
       "e    7.0\n",
       "f    8.0\n",
       "g    Jan\n",
       "h    Feb\n",
       "i    Mar\n",
       "dtype: object"
      ]
     },
     "execution_count": 29,
     "metadata": {},
     "output_type": "execute_result"
    }
   ],
   "source": [
    "my_series_mixed.tail()\n",
    "# This returns the last 5 elements of the Series. \n",
    "# If the Series has fewer than 5 elements, it returns all of them."
   ]
  },
  {
   "cell_type": "code",
   "execution_count": 30,
   "id": "108fa688",
   "metadata": {},
   "outputs": [
    {
     "data": {
      "text/plain": [
       "a    10\n",
       "b    20\n",
       "c    30\n",
       "dtype: object"
      ]
     },
     "execution_count": 30,
     "metadata": {},
     "output_type": "execute_result"
    }
   ],
   "source": [
    "my_series_mixed.head(3)\n",
    "# This returns the first 3 elements of the Series."
   ]
  },
  {
   "cell_type": "code",
   "execution_count": 31,
   "id": "26f1625c",
   "metadata": {},
   "outputs": [
    {
     "data": {
      "text/plain": [
       "g    Jan\n",
       "h    Feb\n",
       "i    Mar\n",
       "dtype: object"
      ]
     },
     "execution_count": 31,
     "metadata": {},
     "output_type": "execute_result"
    }
   ],
   "source": [
    "my_series_mixed.tail(3)\n",
    "# This returns the last 3 elements of the Series."
   ]
  },
  {
   "cell_type": "markdown",
   "id": "81a296e2",
   "metadata": {},
   "source": [
    "Descriptive Statistics for Numeric Values\n"
   ]
  },
  {
   "cell_type": "code",
   "execution_count": 32,
   "id": "33584084",
   "metadata": {},
   "outputs": [
    {
     "data": {
      "text/plain": [
       "a    10\n",
       "b    20\n",
       "c    30\n",
       "dtype: int64"
      ]
     },
     "execution_count": 32,
     "metadata": {},
     "output_type": "execute_result"
    }
   ],
   "source": [
    "my_series_int\n"
   ]
  },
  {
   "cell_type": "code",
   "execution_count": null,
   "id": "11bce615",
   "metadata": {},
   "outputs": [
    {
     "data": {
      "text/plain": [
       "count     3.0\n",
       "mean     20.0\n",
       "std      10.0\n",
       "min      10.0\n",
       "25%      15.0\n",
       "50%      20.0\n",
       "75%      25.0\n",
       "max      30.0\n",
       "dtype: float64"
      ]
     },
     "execution_count": 33,
     "metadata": {},
     "output_type": "execute_result"
    }
   ],
   "source": [
    "my_series_int.describe()\n",
    "# This provides a summary of statistics for the integer Series,\n",
    "#  including count, mean, standard deviation, min, max, and quartiles.\n",
    "#  Also displays the output data type of the series, float64."
   ]
  },
  {
   "cell_type": "code",
   "execution_count": null,
   "id": "39bef7de",
   "metadata": {},
   "outputs": [],
   "source": []
  }
 ],
 "metadata": {
  "kernelspec": {
   "display_name": "Python 3",
   "language": "python",
   "name": "python3"
  },
  "language_info": {
   "codemirror_mode": {
    "name": "ipython",
    "version": 3
   },
   "file_extension": ".py",
   "mimetype": "text/x-python",
   "name": "python",
   "nbconvert_exporter": "python",
   "pygments_lexer": "ipython3",
   "version": "3.12.4"
  }
 },
 "nbformat": 4,
 "nbformat_minor": 5
}
