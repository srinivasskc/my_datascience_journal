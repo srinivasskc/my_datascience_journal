{
 "cells": [
  {
   "cell_type": "code",
   "execution_count": 39,
   "id": "0108a2cb",
   "metadata": {},
   "outputs": [],
   "source": [
    "import pandas as pd"
   ]
  },
  {
   "cell_type": "code",
   "execution_count": null,
   "id": "7fb75b7b",
   "metadata": {},
   "outputs": [
    {
     "data": {
      "text/plain": [
       "Potato           45\n",
       "Tomato           35\n",
       "Green Chilli     20\n",
       "Beetroot         25\n",
       "Ladies Finger    35\n",
       "dtype: int64"
      ]
     },
     "execution_count": 40,
     "metadata": {},
     "output_type": "execute_result"
    }
   ],
   "source": [
    "# Pandas Series with Dictionary.\n",
    "\n",
    "veg = pd.Series({'Potato': 45, 'Tomato': 35, 'Green Chilli': 20, 'Beetroot': 25, 'Ladies Finger': 35})\n",
    "veg"
   ]
  },
  {
   "cell_type": "code",
   "execution_count": 41,
   "id": "283d36bb",
   "metadata": {},
   "outputs": [
    {
     "data": {
      "text/plain": [
       "array([45, 35, 20, 25, 35])"
      ]
     },
     "execution_count": 41,
     "metadata": {},
     "output_type": "execute_result"
    }
   ],
   "source": [
    "# Returns series values as array.\n",
    "\n",
    "veg.values"
   ]
  },
  {
   "cell_type": "code",
   "execution_count": 42,
   "id": "730241cf",
   "metadata": {},
   "outputs": [
    {
     "data": {
      "text/plain": [
       "Index(['Potato', 'Tomato', 'Green Chilli', 'Beetroot', 'Ladies Finger'], dtype='object')"
      ]
     },
     "execution_count": 42,
     "metadata": {},
     "output_type": "execute_result"
    }
   ],
   "source": [
    "# Return Series-Index\n",
    "veg.index"
   ]
  },
  {
   "cell_type": "code",
   "execution_count": 43,
   "id": "588e98a8",
   "metadata": {},
   "outputs": [
    {
     "data": {
      "text/plain": [
       "(5,)"
      ]
     },
     "execution_count": 43,
     "metadata": {},
     "output_type": "execute_result"
    }
   ],
   "source": [
    "# Shape of the series - Returns no of elements available in the series.\n",
    "\n",
    "veg.shape\n"
   ]
  },
  {
   "cell_type": "code",
   "execution_count": 44,
   "id": "184e078a",
   "metadata": {},
   "outputs": [
    {
     "name": "stdout",
     "output_type": "stream",
     "text": [
      "45\n"
     ]
    }
   ],
   "source": [
    "# Subset of this series.\n",
    "\n",
    "# Position Index.\n",
    "veg_position_index = veg.iloc[0]\n",
    "print(veg_position_index)"
   ]
  },
  {
   "cell_type": "code",
   "execution_count": 45,
   "id": "a3de24b7",
   "metadata": {},
   "outputs": [
    {
     "name": "stdout",
     "output_type": "stream",
     "text": [
      "25\n"
     ]
    }
   ],
   "source": [
    "# Label Index.\n",
    "\n",
    "veg_label_index=veg.loc['Beetroot']\n",
    "print(veg_label_index)"
   ]
  },
  {
   "cell_type": "code",
   "execution_count": 46,
   "id": "043ee050",
   "metadata": {},
   "outputs": [
    {
     "data": {
      "text/plain": [
       "Potato          45\n",
       "Tomato          35\n",
       "Green Chilli    20\n",
       "Beetroot        25\n",
       "dtype: int64"
      ]
     },
     "execution_count": 46,
     "metadata": {},
     "output_type": "execute_result"
    }
   ],
   "source": [
    "# Range of records - Last Range is included in Label Index\n",
    "\n",
    "veg['Potato':'Beetroot']\n"
   ]
  },
  {
   "cell_type": "code",
   "execution_count": 47,
   "id": "96aabee2",
   "metadata": {},
   "outputs": [
    {
     "data": {
      "text/plain": [
       "Potato          45\n",
       "Tomato          35\n",
       "Green Chilli    20\n",
       "dtype: int64"
      ]
     },
     "execution_count": 47,
     "metadata": {},
     "output_type": "execute_result"
    }
   ],
   "source": [
    "# Range of records - Last Range is excluded in Position Index\n",
    "\n",
    "veg[0:3]"
   ]
  },
  {
   "cell_type": "code",
   "execution_count": 48,
   "id": "e47356d8",
   "metadata": {},
   "outputs": [
    {
     "data": {
      "text/plain": [
       "Potato           45\n",
       "Green Chilli     20\n",
       "Ladies Finger    35\n",
       "dtype: int64"
      ]
     },
     "execution_count": 48,
     "metadata": {},
     "output_type": "execute_result"
    }
   ],
   "source": [
    "# Extract only few elements from the dictionary\n",
    "\n",
    "veg[['Potato','Green Chilli','Ladies Finger']]"
   ]
  },
  {
   "cell_type": "code",
   "execution_count": 49,
   "id": "330c31db",
   "metadata": {},
   "outputs": [
    {
     "data": {
      "text/plain": [
       "Tomato           35\n",
       "Green Chilli     20\n",
       "Beetroot         25\n",
       "Ladies Finger    35\n",
       "dtype: int64"
      ]
     },
     "execution_count": 49,
     "metadata": {},
     "output_type": "execute_result"
    }
   ],
   "source": [
    "# Starts from Potato and end range is blank\n",
    "\n",
    "veg['Tomato': ]"
   ]
  },
  {
   "cell_type": "code",
   "execution_count": 50,
   "id": "b3b09fd7",
   "metadata": {},
   "outputs": [
    {
     "data": {
      "text/plain": [
       "Potato          45\n",
       "Tomato          35\n",
       "Green Chilli    20\n",
       "Beetroot        25\n",
       "dtype: int64"
      ]
     },
     "execution_count": 50,
     "metadata": {},
     "output_type": "execute_result"
    }
   ],
   "source": [
    "# Starts from blank range till Beetroot\n",
    "\n",
    "veg[:'Beetroot']"
   ]
  },
  {
   "cell_type": "code",
   "execution_count": 51,
   "id": "d59791ef",
   "metadata": {},
   "outputs": [
    {
     "data": {
      "text/plain": [
       "Potato           45\n",
       "Tomato           35\n",
       "Green Chilli     20\n",
       "Beetroot         25\n",
       "Ladies Finger    35\n",
       "dtype: int64"
      ]
     },
     "execution_count": 51,
     "metadata": {},
     "output_type": "execute_result"
    }
   ],
   "source": [
    "# Positional Slicing.\n",
    "\n",
    "# From 0 to 5 -> (5-1)\n",
    "veg[0:5]"
   ]
  },
  {
   "cell_type": "code",
   "execution_count": 52,
   "id": "88ab829e",
   "metadata": {},
   "outputs": [
    {
     "data": {
      "text/plain": [
       "Potato           45\n",
       "Green Chilli     20\n",
       "Ladies Finger    35\n",
       "dtype: int64"
      ]
     },
     "execution_count": 52,
     "metadata": {},
     "output_type": "execute_result"
    }
   ],
   "source": [
    "# For every 2nd index.\n",
    "veg[0::2]"
   ]
  },
  {
   "cell_type": "code",
   "execution_count": 53,
   "id": "89dc96ed",
   "metadata": {},
   "outputs": [
    {
     "data": {
      "text/plain": [
       "Potato      45\n",
       "Beetroot    25\n",
       "dtype: int64"
      ]
     },
     "execution_count": 53,
     "metadata": {},
     "output_type": "execute_result"
    }
   ],
   "source": [
    "veg[0::3]"
   ]
  },
  {
   "cell_type": "code",
   "execution_count": 55,
   "id": "8e8e7bbd",
   "metadata": {},
   "outputs": [
    {
     "data": {
      "text/plain": [
       "Potato           45\n",
       "Tomato           35\n",
       "Green Chilli     20\n",
       "Beetroot         25\n",
       "Ladies Finger    35\n",
       "dtype: int64"
      ]
     },
     "execution_count": 55,
     "metadata": {},
     "output_type": "execute_result"
    }
   ],
   "source": [
    "#iloc/loc\n",
    "#loc: label based indexing\n",
    "#iloc : position based indexing\n",
    "\n",
    "veg"
   ]
  },
  {
   "cell_type": "code",
   "execution_count": 58,
   "id": "fa176f51",
   "metadata": {},
   "outputs": [
    {
     "data": {
      "text/plain": [
       "Potato          45\n",
       "Tomato          35\n",
       "Green Chilli    20\n",
       "Beetroot        25\n",
       "dtype: int64"
      ]
     },
     "execution_count": 58,
     "metadata": {},
     "output_type": "execute_result"
    }
   ],
   "source": [
    "# Label based indexing\n",
    "veg.loc['Potato':'Beetroot']"
   ]
  },
  {
   "cell_type": "code",
   "execution_count": 59,
   "id": "15b52586",
   "metadata": {},
   "outputs": [
    {
     "data": {
      "text/plain": [
       "Potato          45\n",
       "Tomato          35\n",
       "Green Chilli    20\n",
       "Beetroot        25\n",
       "dtype: int64"
      ]
     },
     "execution_count": 59,
     "metadata": {},
     "output_type": "execute_result"
    }
   ],
   "source": [
    "# Position based indexing\n",
    "veg.iloc[0:4]"
   ]
  },
  {
   "cell_type": "markdown",
   "id": "9fb4a41a",
   "metadata": {},
   "source": [
    "Comparison Operator: "
   ]
  },
  {
   "cell_type": "code",
   "execution_count": 66,
   "id": "be028a44",
   "metadata": {},
   "outputs": [
    {
     "data": {
      "text/plain": [
       "Potato           45\n",
       "Tomato           35\n",
       "Green Chilli     20\n",
       "Beetroot         25\n",
       "Ladies Finger    35\n",
       "dtype: int64"
      ]
     },
     "execution_count": 66,
     "metadata": {},
     "output_type": "execute_result"
    }
   ],
   "source": [
    "veg"
   ]
  },
  {
   "cell_type": "code",
   "execution_count": 65,
   "id": "faa099e9",
   "metadata": {},
   "outputs": [
    {
     "data": {
      "text/plain": [
       "Potato            True\n",
       "Tomato            True\n",
       "Green Chilli     False\n",
       "Beetroot         False\n",
       "Ladies Finger     True\n",
       "dtype: bool"
      ]
     },
     "execution_count": 65,
     "metadata": {},
     "output_type": "execute_result"
    }
   ],
   "source": [
    "veg > 25\n",
    "# Checking if any values > 25, If yes - True and any values <=25 = False\n"
   ]
  },
  {
   "cell_type": "code",
   "execution_count": 68,
   "id": "5f50860f",
   "metadata": {},
   "outputs": [
    {
     "data": {
      "text/plain": [
       "Potato           45\n",
       "Tomato           35\n",
       "Ladies Finger    35\n",
       "dtype: int64"
      ]
     },
     "execution_count": 68,
     "metadata": {},
     "output_type": "execute_result"
    }
   ],
   "source": [
    "veg[veg>25]\n",
    "# Getting the filtered values by calling veg[subset of veg>25]"
   ]
  },
  {
   "cell_type": "code",
   "execution_count": 69,
   "id": "ad081bd6",
   "metadata": {},
   "outputs": [
    {
     "data": {
      "text/plain": [
       "Potato           45\n",
       "Tomato           35\n",
       "Green Chilli     20\n",
       "Beetroot         25\n",
       "Ladies Finger    35\n",
       "dtype: int64"
      ]
     },
     "execution_count": 69,
     "metadata": {},
     "output_type": "execute_result"
    }
   ],
   "source": [
    "# For top 5 elements\n",
    "\n",
    "veg.head()"
   ]
  },
  {
   "cell_type": "code",
   "execution_count": 70,
   "id": "1d60ae3a",
   "metadata": {},
   "outputs": [
    {
     "data": {
      "text/plain": [
       "Potato    45\n",
       "Tomato    35\n",
       "dtype: int64"
      ]
     },
     "execution_count": 70,
     "metadata": {},
     "output_type": "execute_result"
    }
   ],
   "source": [
    "# Top 2 elements\n",
    "veg.head(2)"
   ]
  },
  {
   "cell_type": "code",
   "execution_count": 73,
   "id": "e057254f",
   "metadata": {},
   "outputs": [
    {
     "data": {
      "text/plain": [
       "Potato           45\n",
       "Tomato           35\n",
       "Green Chilli     20\n",
       "Beetroot         25\n",
       "Ladies Finger    35\n",
       "dtype: int64"
      ]
     },
     "execution_count": 73,
     "metadata": {},
     "output_type": "execute_result"
    }
   ],
   "source": [
    "# Bottom 5 elements\n",
    "veg.tail()"
   ]
  },
  {
   "cell_type": "code",
   "execution_count": 75,
   "id": "e2dbcd19",
   "metadata": {},
   "outputs": [
    {
     "data": {
      "text/plain": [
       "Green Chilli     20\n",
       "Beetroot         25\n",
       "Ladies Finger    35\n",
       "dtype: int64"
      ]
     },
     "execution_count": 75,
     "metadata": {},
     "output_type": "execute_result"
    }
   ],
   "source": [
    "# Last 3 elements\n",
    "veg.tail(3)"
   ]
  },
  {
   "cell_type": "code",
   "execution_count": 88,
   "id": "1fa0fead",
   "metadata": {},
   "outputs": [
    {
     "data": {
      "text/plain": [
       "Potato           False\n",
       "Tomato           False\n",
       "Green Chilli      True\n",
       "Beetroot         False\n",
       "Ladies Finger    False\n",
       "dtype: bool"
      ]
     },
     "execution_count": 88,
     "metadata": {},
     "output_type": "execute_result"
    }
   ],
   "source": [
    "# Check any value belongs to this series or not\n",
    "\n",
    "veg.isin([20])\n",
    "# Valid case"
   ]
  },
  {
   "cell_type": "code",
   "execution_count": 89,
   "id": "6cff0156",
   "metadata": {},
   "outputs": [
    {
     "data": {
      "text/plain": [
       "Potato           False\n",
       "Tomato           False\n",
       "Green Chilli     False\n",
       "Beetroot         False\n",
       "Ladies Finger    False\n",
       "dtype: bool"
      ]
     },
     "execution_count": 89,
     "metadata": {},
     "output_type": "execute_result"
    }
   ],
   "source": [
    "veg.isin([40])\n",
    "# invalid case."
   ]
  },
  {
   "cell_type": "code",
   "execution_count": 87,
   "id": "6dc47e55",
   "metadata": {},
   "outputs": [
    {
     "data": {
      "text/plain": [
       "Green Chilli    20\n",
       "dtype: int64"
      ]
     },
     "execution_count": 87,
     "metadata": {},
     "output_type": "execute_result"
    }
   ],
   "source": [
    "# Exact Value is extracted\n",
    "veg[veg.isin([20])]"
   ]
  },
  {
   "cell_type": "markdown",
   "id": "c64e2549",
   "metadata": {},
   "source": [
    "Find unique values and their frequencies"
   ]
  },
  {
   "cell_type": "code",
   "execution_count": 92,
   "id": "b8269498",
   "metadata": {},
   "outputs": [
    {
     "data": {
      "text/plain": [
       "['a', 'b', 'c', 'd']"
      ]
     },
     "execution_count": 92,
     "metadata": {},
     "output_type": "execute_result"
    }
   ],
   "source": [
    "list('abcd')"
   ]
  },
  {
   "cell_type": "code",
   "execution_count": 93,
   "id": "7c3b7c2f",
   "metadata": {},
   "outputs": [
    {
     "name": "stdout",
     "output_type": "stream",
     "text": [
      "abcdabcdabcdabcd\n"
     ]
    }
   ],
   "source": [
    "print('abcd'*4)"
   ]
  },
  {
   "cell_type": "code",
   "execution_count": 91,
   "id": "b5775355",
   "metadata": {},
   "outputs": [
    {
     "data": {
      "text/plain": [
       "0     a\n",
       "1     b\n",
       "2     c\n",
       "3     d\n",
       "4     a\n",
       "5     b\n",
       "6     c\n",
       "7     d\n",
       "8     a\n",
       "9     b\n",
       "10    c\n",
       "11    d\n",
       "12    a\n",
       "13    b\n",
       "14    c\n",
       "15    d\n",
       "dtype: object"
      ]
     },
     "execution_count": 91,
     "metadata": {},
     "output_type": "execute_result"
    }
   ],
   "source": [
    "# The string - \"abcd\"*4 times-> abcdabcdabcdabcd, is packed in a list - converted to list of characters from string.\n",
    "# wrapped into 1D Array i.e series. \n",
    "new_data = pd.Series(list('abcd'*4))\n",
    "new_data"
   ]
  },
  {
   "cell_type": "code",
   "execution_count": 94,
   "id": "58ba8413",
   "metadata": {},
   "outputs": [],
   "source": [
    "# unique() - Name of all unique records\n",
    "# nunique() - Count of unique records\n",
    "# value_counts() - Name of unique records with their occurences."
   ]
  },
  {
   "cell_type": "code",
   "execution_count": 96,
   "id": "411ddefb",
   "metadata": {},
   "outputs": [
    {
     "data": {
      "text/plain": [
       "array(['a', 'b', 'c', 'd'], dtype=object)"
      ]
     },
     "execution_count": 96,
     "metadata": {},
     "output_type": "execute_result"
    }
   ],
   "source": [
    "new_data.unique()\n",
    "# Name of unique values"
   ]
  },
  {
   "cell_type": "code",
   "execution_count": 98,
   "id": "4df39a17",
   "metadata": {},
   "outputs": [
    {
     "data": {
      "text/plain": [
       "4"
      ]
     },
     "execution_count": 98,
     "metadata": {},
     "output_type": "execute_result"
    }
   ],
   "source": [
    "new_data.nunique()\n",
    "# Total records of unique"
   ]
  },
  {
   "cell_type": "code",
   "execution_count": 99,
   "id": "1525d40f",
   "metadata": {},
   "outputs": [
    {
     "data": {
      "text/plain": [
       "a    4\n",
       "b    4\n",
       "c    4\n",
       "d    4\n",
       "Name: count, dtype: int64"
      ]
     },
     "execution_count": 99,
     "metadata": {},
     "output_type": "execute_result"
    }
   ],
   "source": [
    "new_data.value_counts()"
   ]
  },
  {
   "cell_type": "code",
   "execution_count": 100,
   "id": "df425fd0",
   "metadata": {},
   "outputs": [
    {
     "data": {
      "text/plain": [
       "0     False\n",
       "1     False\n",
       "2     False\n",
       "3     False\n",
       "4      True\n",
       "5      True\n",
       "6      True\n",
       "7      True\n",
       "8      True\n",
       "9      True\n",
       "10     True\n",
       "11     True\n",
       "12     True\n",
       "13     True\n",
       "14     True\n",
       "15     True\n",
       "dtype: bool"
      ]
     },
     "execution_count": 100,
     "metadata": {},
     "output_type": "execute_result"
    }
   ],
   "source": [
    "# Get the duplicate values\n",
    "# Duplicated values are represented with True. and non-duplicate with False\n",
    "\n",
    "new_data.duplicated()\n"
   ]
  },
  {
   "cell_type": "code",
   "execution_count": 101,
   "id": "a2b2307a",
   "metadata": {},
   "outputs": [
    {
     "data": {
      "text/plain": [
       "4     a\n",
       "5     b\n",
       "6     c\n",
       "7     d\n",
       "8     a\n",
       "9     b\n",
       "10    c\n",
       "11    d\n",
       "12    a\n",
       "13    b\n",
       "14    c\n",
       "15    d\n",
       "dtype: object"
      ]
     },
     "execution_count": 101,
     "metadata": {},
     "output_type": "execute_result"
    }
   ],
   "source": [
    "new_data[new_data.duplicated()]"
   ]
  },
  {
   "cell_type": "code",
   "execution_count": 104,
   "id": "f0a26413",
   "metadata": {},
   "outputs": [
    {
     "data": {
      "text/plain": [
       "0    a\n",
       "1    b\n",
       "2    c\n",
       "3    d\n",
       "dtype: object"
      ]
     },
     "execution_count": 104,
     "metadata": {},
     "output_type": "execute_result"
    }
   ],
   "source": [
    "# Return Series with duplicates removed, but does not apply back to original series\n",
    "new_data.drop_duplicates()"
   ]
  },
  {
   "cell_type": "code",
   "execution_count": 103,
   "id": "52a0d303",
   "metadata": {},
   "outputs": [
    {
     "data": {
      "text/plain": [
       "0     a\n",
       "1     b\n",
       "2     c\n",
       "3     d\n",
       "4     a\n",
       "5     b\n",
       "6     c\n",
       "7     d\n",
       "8     a\n",
       "9     b\n",
       "10    c\n",
       "11    d\n",
       "12    a\n",
       "13    b\n",
       "14    c\n",
       "15    d\n",
       "dtype: object"
      ]
     },
     "execution_count": 103,
     "metadata": {},
     "output_type": "execute_result"
    }
   ],
   "source": [
    "new_data"
   ]
  },
  {
   "cell_type": "code",
   "execution_count": 106,
   "id": "40f32f18",
   "metadata": {},
   "outputs": [
    {
     "data": {
      "text/plain": [
       "Green Chilli     20\n",
       "Beetroot         25\n",
       "Tomato           35\n",
       "Ladies Finger    35\n",
       "Potato           45\n",
       "dtype: int64"
      ]
     },
     "execution_count": 106,
     "metadata": {},
     "output_type": "execute_result"
    }
   ],
   "source": [
    "# Sorting the data\n",
    "# sort_values\n",
    "# sort_index\n",
    "\n",
    "veg.sort_values()\n",
    "# Values are sorted in ascending order\n"
   ]
  },
  {
   "cell_type": "code",
   "execution_count": 108,
   "id": "49fbe0c6",
   "metadata": {},
   "outputs": [
    {
     "data": {
      "text/plain": [
       "0     a\n",
       "4     a\n",
       "8     a\n",
       "12    a\n",
       "1     b\n",
       "5     b\n",
       "9     b\n",
       "13    b\n",
       "2     c\n",
       "6     c\n",
       "10    c\n",
       "14    c\n",
       "3     d\n",
       "7     d\n",
       "11    d\n",
       "15    d\n",
       "dtype: object"
      ]
     },
     "execution_count": 108,
     "metadata": {},
     "output_type": "execute_result"
    }
   ],
   "source": [
    "new_data.sort_values()\n",
    "# Values are sorted in alphabetical order"
   ]
  },
  {
   "cell_type": "code",
   "execution_count": 110,
   "id": "2498b74d",
   "metadata": {},
   "outputs": [
    {
     "data": {
      "text/plain": [
       "Potato           45\n",
       "Tomato           35\n",
       "Green Chilli     20\n",
       "Beetroot         25\n",
       "Ladies Finger    35\n",
       "dtype: int64"
      ]
     },
     "execution_count": 110,
     "metadata": {},
     "output_type": "execute_result"
    }
   ],
   "source": [
    "veg"
   ]
  },
  {
   "cell_type": "code",
   "execution_count": 112,
   "id": "d732f73b",
   "metadata": {},
   "outputs": [
    {
     "data": {
      "text/plain": [
       "Beetroot         25\n",
       "Green Chilli     20\n",
       "Ladies Finger    35\n",
       "Potato           45\n",
       "Tomato           35\n",
       "dtype: int64"
      ]
     },
     "execution_count": 112,
     "metadata": {},
     "output_type": "execute_result"
    }
   ],
   "source": [
    "veg.sort_index()\n",
    "# The Label Index values are sorted in alphabetical order"
   ]
  },
  {
   "cell_type": "code",
   "execution_count": 114,
   "id": "3ac05eb6",
   "metadata": {},
   "outputs": [
    {
     "data": {
      "text/plain": [
       "0     a\n",
       "1     b\n",
       "2     c\n",
       "3     d\n",
       "4     a\n",
       "5     b\n",
       "6     c\n",
       "7     d\n",
       "8     a\n",
       "9     b\n",
       "10    c\n",
       "11    d\n",
       "12    a\n",
       "13    b\n",
       "14    c\n",
       "15    d\n",
       "dtype: object"
      ]
     },
     "execution_count": 114,
     "metadata": {},
     "output_type": "execute_result"
    }
   ],
   "source": [
    "new_data.sort_index()\n",
    "# The positional index values are sorted in ascending order"
   ]
  },
  {
   "cell_type": "markdown",
   "id": "1ba7c5d3",
   "metadata": {},
   "source": [
    "Dealing with Missing Data\n",
    "\n",
    "For writing nan, numpy needs to be imported\n",
    "np.nan is used to represent missing or undefined values."
   ]
  },
  {
   "cell_type": "code",
   "execution_count": 123,
   "id": "34f2fe0d",
   "metadata": {},
   "outputs": [
    {
     "data": {
      "text/plain": [
       "0    2.0\n",
       "1    4.0\n",
       "2    NaN\n",
       "3    8.0\n",
       "4    NaN\n",
       "5    NaN\n",
       "dtype: float64"
      ]
     },
     "execution_count": 123,
     "metadata": {},
     "output_type": "execute_result"
    }
   ],
   "source": [
    "import numpy as np\n",
    "miss_data = pd.Series([2,4,np.nan,8,np.nan,np.nan])\n",
    "miss_data"
   ]
  },
  {
   "cell_type": "code",
   "execution_count": 124,
   "id": "b85eb613",
   "metadata": {},
   "outputs": [
    {
     "data": {
      "text/plain": [
       "0    False\n",
       "1    False\n",
       "2     True\n",
       "3    False\n",
       "4     True\n",
       "5     True\n",
       "dtype: bool"
      ]
     },
     "execution_count": 124,
     "metadata": {},
     "output_type": "execute_result"
    }
   ],
   "source": [
    "miss_data.isnull()\n",
    "# This returns in True/False format.\n",
    "# Is Null = True: NaN"
   ]
  },
  {
   "cell_type": "code",
   "execution_count": 127,
   "id": "9a21f0fa",
   "metadata": {},
   "outputs": [
    {
     "data": {
      "text/plain": [
       "np.int64(3)"
      ]
     },
     "execution_count": 127,
     "metadata": {},
     "output_type": "execute_result"
    }
   ],
   "source": [
    "miss_data.isnull().sum()\n",
    "# This returns, numpy integer object with value 3"
   ]
  },
  {
   "cell_type": "code",
   "execution_count": 128,
   "id": "0ed3d598",
   "metadata": {},
   "outputs": [
    {
     "name": "stdout",
     "output_type": "stream",
     "text": [
      "3\n"
     ]
    }
   ],
   "source": [
    "# Count no of missing records\n",
    "print(miss_data.isnull().sum())\n",
    "\n",
    "# This returns direct value - 3"
   ]
  },
  {
   "cell_type": "code",
   "execution_count": 130,
   "id": "b58d7950",
   "metadata": {},
   "outputs": [
    {
     "data": {
      "text/plain": [
       "numpy.int64"
      ]
     },
     "execution_count": 130,
     "metadata": {},
     "output_type": "execute_result"
    }
   ],
   "source": [
    "type(miss_data.isnull().sum())\n",
    "\n",
    "# This returns the value type: numpy.int64"
   ]
  },
  {
   "cell_type": "code",
   "execution_count": 132,
   "id": "ea2eb21c",
   "metadata": {},
   "outputs": [
    {
     "data": {
      "text/plain": [
       "0    2.0\n",
       "1    4.0\n",
       "2    NaN\n",
       "3    8.0\n",
       "4    NaN\n",
       "5    NaN\n",
       "dtype: float64"
      ]
     },
     "execution_count": 132,
     "metadata": {},
     "output_type": "execute_result"
    }
   ],
   "source": [
    "miss_data"
   ]
  },
  {
   "cell_type": "code",
   "execution_count": 134,
   "id": "50ca9c07",
   "metadata": {},
   "outputs": [
    {
     "data": {
      "text/plain": [
       "0     True\n",
       "1     True\n",
       "2    False\n",
       "3     True\n",
       "4    False\n",
       "5    False\n",
       "dtype: bool"
      ]
     },
     "execution_count": 134,
     "metadata": {},
     "output_type": "execute_result"
    }
   ],
   "source": [
    "miss_data.notnull()\n",
    "# Returns True for not-null values and False for null values"
   ]
  },
  {
   "cell_type": "code",
   "execution_count": 136,
   "id": "5ce9f666",
   "metadata": {},
   "outputs": [
    {
     "data": {
      "text/plain": [
       "0    False\n",
       "1    False\n",
       "2     True\n",
       "3    False\n",
       "4     True\n",
       "5     True\n",
       "dtype: bool"
      ]
     },
     "execution_count": 136,
     "metadata": {},
     "output_type": "execute_result"
    }
   ],
   "source": [
    "miss_data.isna()\n",
    "# Is not available -> If null = True, If not Null = False"
   ]
  },
  {
   "cell_type": "code",
   "execution_count": null,
   "id": "320f3c4a",
   "metadata": {},
   "outputs": [],
   "source": []
  }
 ],
 "metadata": {
  "kernelspec": {
   "display_name": "Python 3",
   "language": "python",
   "name": "python3"
  },
  "language_info": {
   "codemirror_mode": {
    "name": "ipython",
    "version": 3
   },
   "file_extension": ".py",
   "mimetype": "text/x-python",
   "name": "python",
   "nbconvert_exporter": "python",
   "pygments_lexer": "ipython3",
   "version": "3.12.4"
  }
 },
 "nbformat": 4,
 "nbformat_minor": 5
}
