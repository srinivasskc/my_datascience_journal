{
 "cells": [
  {
   "cell_type": "code",
   "execution_count": 1,
   "id": "0108a2cb",
   "metadata": {},
   "outputs": [],
   "source": [
    "import pandas as pd"
   ]
  },
  {
   "cell_type": "code",
   "execution_count": 3,
   "id": "7fb75b7b",
   "metadata": {},
   "outputs": [
    {
     "data": {
      "text/plain": [
       "Potato           45\n",
       "Tomato           35\n",
       "Green Chilli     20\n",
       "Beetroot         25\n",
       "Ladies Finger    35\n",
       "dtype: int64"
      ]
     },
     "execution_count": 3,
     "metadata": {},
     "output_type": "execute_result"
    }
   ],
   "source": [
    "# Pandas Series with Dictionary.\n",
    "\n",
    "veg = pd.Series({'Potato': 45, 'Tomato': 35, 'Green Chilli': 20, 'Beetroot': 25, 'Ladies Finger': 35})\n",
    "veg"
   ]
  },
  {
   "cell_type": "code",
   "execution_count": null,
   "id": "283d36bb",
   "metadata": {},
   "outputs": [
    {
     "data": {
      "text/plain": [
       "array([45, 35, 20, 25, 35])"
      ]
     },
     "execution_count": 4,
     "metadata": {},
     "output_type": "execute_result"
    }
   ],
   "source": [
    "# Returns series values as array.\n",
    "\n",
    "veg.values"
   ]
  },
  {
   "cell_type": "code",
   "execution_count": 6,
   "id": "730241cf",
   "metadata": {},
   "outputs": [
    {
     "data": {
      "text/plain": [
       "Index(['Potato', 'Tomato', 'Green Chilli', 'Beetroot', 'Ladies Finger'], dtype='object')"
      ]
     },
     "execution_count": 6,
     "metadata": {},
     "output_type": "execute_result"
    }
   ],
   "source": [
    "# Return Series-Index\n",
    "veg.index"
   ]
  },
  {
   "cell_type": "code",
   "execution_count": 8,
   "id": "588e98a8",
   "metadata": {},
   "outputs": [
    {
     "data": {
      "text/plain": [
       "(5,)"
      ]
     },
     "execution_count": 8,
     "metadata": {},
     "output_type": "execute_result"
    }
   ],
   "source": [
    "# Shape of the series - Returns no of elements available in the series.\n",
    "\n",
    "veg.shape\n"
   ]
  },
  {
   "cell_type": "code",
   "execution_count": 16,
   "id": "184e078a",
   "metadata": {},
   "outputs": [
    {
     "name": "stdout",
     "output_type": "stream",
     "text": [
      "45\n"
     ]
    }
   ],
   "source": [
    "# Subset of this series.\n",
    "\n",
    "# Position Index.\n",
    "veg_position_index = veg.iloc[0]\n",
    "print(veg_position_index)"
   ]
  },
  {
   "cell_type": "code",
   "execution_count": 18,
   "id": "a3de24b7",
   "metadata": {},
   "outputs": [
    {
     "name": "stdout",
     "output_type": "stream",
     "text": [
      "25\n"
     ]
    }
   ],
   "source": [
    "# Label Index.\n",
    "\n",
    "veg_label_index=veg.loc['Beetroot']\n",
    "print(veg_label_index)"
   ]
  },
  {
   "cell_type": "code",
   "execution_count": 21,
   "id": "043ee050",
   "metadata": {},
   "outputs": [
    {
     "data": {
      "text/plain": [
       "Potato          45\n",
       "Tomato          35\n",
       "Green Chilli    20\n",
       "Beetroot        25\n",
       "dtype: int64"
      ]
     },
     "execution_count": 21,
     "metadata": {},
     "output_type": "execute_result"
    }
   ],
   "source": [
    "# Range of records - Last Range is included in Label Index\n",
    "\n",
    "veg['Potato':'Beetroot']\n"
   ]
  },
  {
   "cell_type": "code",
   "execution_count": 23,
   "id": "96aabee2",
   "metadata": {},
   "outputs": [
    {
     "data": {
      "text/plain": [
       "Potato          45\n",
       "Tomato          35\n",
       "Green Chilli    20\n",
       "dtype: int64"
      ]
     },
     "execution_count": 23,
     "metadata": {},
     "output_type": "execute_result"
    }
   ],
   "source": [
    "# Range of records - Last Range is excluded in Position Index\n",
    "\n",
    "veg[0:3]"
   ]
  },
  {
   "cell_type": "code",
   "execution_count": 25,
   "id": "e47356d8",
   "metadata": {},
   "outputs": [
    {
     "data": {
      "text/plain": [
       "Potato           45\n",
       "Green Chilli     20\n",
       "Ladies Finger    35\n",
       "dtype: int64"
      ]
     },
     "execution_count": 25,
     "metadata": {},
     "output_type": "execute_result"
    }
   ],
   "source": [
    "# Extract only few elements from the dictionary\n",
    "\n",
    "veg[['Potato','Green Chilli','Ladies Finger']]"
   ]
  },
  {
   "cell_type": "code",
   "execution_count": 27,
   "id": "330c31db",
   "metadata": {},
   "outputs": [
    {
     "data": {
      "text/plain": [
       "Tomato           35\n",
       "Green Chilli     20\n",
       "Beetroot         25\n",
       "Ladies Finger    35\n",
       "dtype: int64"
      ]
     },
     "execution_count": 27,
     "metadata": {},
     "output_type": "execute_result"
    }
   ],
   "source": [
    "# Starts from Potato and end range is blank\n",
    "\n",
    "veg['Tomato': ]"
   ]
  },
  {
   "cell_type": "code",
   "execution_count": 29,
   "id": "b3b09fd7",
   "metadata": {},
   "outputs": [
    {
     "data": {
      "text/plain": [
       "Potato          45\n",
       "Tomato          35\n",
       "Green Chilli    20\n",
       "Beetroot        25\n",
       "dtype: int64"
      ]
     },
     "execution_count": 29,
     "metadata": {},
     "output_type": "execute_result"
    }
   ],
   "source": [
    "# Starts from blank range till Beetroot\n",
    "\n",
    "veg[:'Beetroot']"
   ]
  },
  {
   "cell_type": "code",
   "execution_count": null,
   "id": "d59791ef",
   "metadata": {},
   "outputs": [
    {
     "data": {
      "text/plain": [
       "Potato           45\n",
       "Tomato           35\n",
       "Green Chilli     20\n",
       "Beetroot         25\n",
       "Ladies Finger    35\n",
       "dtype: int64"
      ]
     },
     "execution_count": 34,
     "metadata": {},
     "output_type": "execute_result"
    }
   ],
   "source": [
    "# Positional Slicing.\n",
    "\n",
    "# From 0 to 5 -> (5-1)\n",
    "veg[0:5]"
   ]
  },
  {
   "cell_type": "code",
   "execution_count": 36,
   "id": "88ab829e",
   "metadata": {},
   "outputs": [
    {
     "data": {
      "text/plain": [
       "Potato           45\n",
       "Green Chilli     20\n",
       "Ladies Finger    35\n",
       "dtype: int64"
      ]
     },
     "execution_count": 36,
     "metadata": {},
     "output_type": "execute_result"
    }
   ],
   "source": [
    "# For every 2nd index.\n",
    "veg[0::2]"
   ]
  },
  {
   "cell_type": "code",
   "execution_count": 37,
   "id": "89dc96ed",
   "metadata": {},
   "outputs": [
    {
     "data": {
      "text/plain": [
       "Potato      45\n",
       "Beetroot    25\n",
       "dtype: int64"
      ]
     },
     "execution_count": 37,
     "metadata": {},
     "output_type": "execute_result"
    }
   ],
   "source": [
    "veg[0::3]"
   ]
  },
  {
   "cell_type": "code",
   "execution_count": null,
   "id": "8e8e7bbd",
   "metadata": {},
   "outputs": [],
   "source": []
  }
 ],
 "metadata": {
  "kernelspec": {
   "display_name": "Python 3",
   "language": "python",
   "name": "python3"
  },
  "language_info": {
   "codemirror_mode": {
    "name": "ipython",
    "version": 3
   },
   "file_extension": ".py",
   "mimetype": "text/x-python",
   "name": "python",
   "nbconvert_exporter": "python",
   "pygments_lexer": "ipython3",
   "version": "3.12.4"
  }
 },
 "nbformat": 4,
 "nbformat_minor": 5
}
