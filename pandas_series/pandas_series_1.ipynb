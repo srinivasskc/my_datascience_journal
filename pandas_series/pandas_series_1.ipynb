{
 "cells": [
  {
   "cell_type": "markdown",
   "id": "5ef9d245",
   "metadata": {},
   "source": [
    "One Dimensional - Row/Column - In Pandas - Series\n",
    "\n",
    "Two Dimensional - Rows and Columns (Entire Table) - In Pandas - Dataframe\n",
    "\n",
    "Multiple Series is called a DataFrame"
   ]
  },
  {
   "cell_type": "markdown",
   "id": "0a35e6c3",
   "metadata": {},
   "source": []
  },
  {
   "cell_type": "code",
   "execution_count": 65,
   "id": "170335b1",
   "metadata": {},
   "outputs": [],
   "source": [
    "import pandas as pd"
   ]
  },
  {
   "cell_type": "code",
   "execution_count": 66,
   "id": "0ad9195f",
   "metadata": {},
   "outputs": [
    {
     "data": {
      "text/plain": [
       "1"
      ]
     },
     "execution_count": 66,
     "metadata": {},
     "output_type": "execute_result"
    }
   ],
   "source": [
    "# List\n",
    "l1 = [1,2,3,4,5,6,7,8,9,0]\n",
    "l1[0]"
   ]
  },
  {
   "cell_type": "code",
   "execution_count": 67,
   "id": "70794877",
   "metadata": {},
   "outputs": [
    {
     "data": {
      "text/plain": [
       "20"
      ]
     },
     "execution_count": 67,
     "metadata": {},
     "output_type": "execute_result"
    }
   ],
   "source": [
    "# Dictionary\n",
    "\n",
    "d1 = {'Name': 'Srinivas', 'Age': 20}\n",
    "d1['Name']\n",
    "d1['Age']"
   ]
  },
  {
   "cell_type": "code",
   "execution_count": 68,
   "id": "7119d0da",
   "metadata": {},
   "outputs": [
    {
     "name": "stdout",
     "output_type": "stream",
     "text": [
      "(0, 1)\n",
      "(1, 2)\n",
      "(2, 3)\n",
      "(3, 4)\n",
      "(4, 5)\n",
      "(5, 6)\n",
      "(6, 7)\n",
      "(7, 8)\n",
      "(8, 9)\n",
      "(9, 0)\n"
     ]
    }
   ],
   "source": [
    "# Enumerate is useful for getting indexed lists\n",
    "for i in enumerate(l1):\n",
    "    print(i)\n",
    "\n",
    "# Output - 0: index, 1: Value"
   ]
  },
  {
   "cell_type": "code",
   "execution_count": 69,
   "id": "282277f5",
   "metadata": {},
   "outputs": [
    {
     "name": "stdout",
     "output_type": "stream",
     "text": [
      "(0, 'Name')\n",
      "(1, 'Age')\n"
     ]
    }
   ],
   "source": [
    "# Enumerate is useful for getting indexed lists\n",
    "for i in enumerate(d1):\n",
    "    print(i)\n",
    "\n",
    "# Output : index-0, Key-Name"
   ]
  },
  {
   "cell_type": "code",
   "execution_count": 70,
   "id": "d74c59a6",
   "metadata": {},
   "outputs": [
    {
     "name": "stdout",
     "output_type": "stream",
     "text": [
      "0 1\n",
      "1 2\n",
      "2 3\n",
      "3 4\n",
      "4 5\n",
      "5 6\n",
      "6 7\n",
      "7 8\n",
      "8 9\n",
      "9 0\n"
     ]
    }
   ],
   "source": [
    "# Enumerate is useful for getting indexed lists\n",
    "for i,j in enumerate(l1):\n",
    "    print(i,j)\n",
    "\n",
    "# Output - 0: index, 1: Value"
   ]
  },
  {
   "cell_type": "code",
   "execution_count": 71,
   "id": "24e5263e",
   "metadata": {},
   "outputs": [
    {
     "data": {
      "text/plain": [
       "0    1\n",
       "1    2\n",
       "2    3\n",
       "3    4\n",
       "4    5\n",
       "5    6\n",
       "6    7\n",
       "7    8\n",
       "8    9\n",
       "9    0\n",
       "dtype: int64"
      ]
     },
     "execution_count": 71,
     "metadata": {},
     "output_type": "execute_result"
    }
   ],
   "source": [
    "pd.Series(l1)\n"
   ]
  },
  {
   "cell_type": "code",
   "execution_count": 72,
   "id": "4e0df724",
   "metadata": {},
   "outputs": [
    {
     "data": {
      "text/plain": [
       "a    2\n",
       "b    3\n",
       "c    4\n",
       "dtype: int64"
      ]
     },
     "execution_count": 72,
     "metadata": {},
     "output_type": "execute_result"
    }
   ],
   "source": [
    "# Changing the index names in pandas Series.\n",
    "\n",
    "s1 = pd.Series((2,3,4),index=['a','b','c'])\n",
    "s1"
   ]
  },
  {
   "cell_type": "code",
   "execution_count": 73,
   "id": "c7aeb456",
   "metadata": {},
   "outputs": [
    {
     "name": "stdout",
     "output_type": "stream",
     "text": [
      "<class 'tuple'>\n"
     ]
    },
    {
     "data": {
      "text/plain": [
       "a    2\n",
       "b    3\n",
       "c    4\n",
       "dtype: int64"
      ]
     },
     "execution_count": 73,
     "metadata": {},
     "output_type": "execute_result"
    }
   ],
   "source": [
    "# Using the list inside the Series\n",
    "t1 = (2,3,4)\n",
    "# tuple\n",
    "print(type(t1))\n",
    "\n",
    "# Series using Tuple.\n",
    "\n",
    "s1 = pd.Series(t1,index=['a','b','c'])\n",
    "s1"
   ]
  },
  {
   "cell_type": "code",
   "execution_count": 74,
   "id": "970cdb4a",
   "metadata": {},
   "outputs": [
    {
     "data": {
      "text/plain": [
       "{'a': 2, 'b': 3, 'c': 5}"
      ]
     },
     "execution_count": 74,
     "metadata": {},
     "output_type": "execute_result"
    }
   ],
   "source": [
    "dict1 = {'a':2,'b':3,'c':5}\n",
    "dict1"
   ]
  },
  {
   "cell_type": "code",
   "execution_count": 75,
   "id": "3c949697",
   "metadata": {},
   "outputs": [
    {
     "data": {
      "text/plain": [
       "a        4\n",
       "b       hi\n",
       "c    hello\n",
       "d        8\n",
       "e    450.5\n",
       "dtype: object"
      ]
     },
     "execution_count": 75,
     "metadata": {},
     "output_type": "execute_result"
    }
   ],
   "source": [
    "# List\n",
    "list1 = [4,'hi','hello',8,450.50]\n",
    "\n",
    "s2 = pd.Series(list1,index=['a','b','c','d','e'])\n",
    "s2"
   ]
  },
  {
   "cell_type": "code",
   "execution_count": 76,
   "id": "743838ea",
   "metadata": {},
   "outputs": [
    {
     "data": {
      "text/plain": [
       "a   NaN\n",
       "b   NaN\n",
       "c   NaN\n",
       "x   NaN\n",
       "y   NaN\n",
       "z   NaN\n",
       "dtype: float64"
      ]
     },
     "execution_count": 76,
     "metadata": {},
     "output_type": "execute_result"
    }
   ],
   "source": [
    "# Mathematical Operations in Series.\n",
    "\n",
    "list_a = [1,2,3]\n",
    "list_b = [3,4,5]\n",
    "\n",
    "s1 = pd.Series(list_a,index=['a','b','c'])\n",
    "s2 = pd.Series(list_b,index=['x','y','z'])\n",
    "\n",
    "s1+s2\n"
   ]
  },
  {
   "cell_type": "code",
   "execution_count": 77,
   "id": "f797ec50",
   "metadata": {},
   "outputs": [
    {
     "data": {
      "text/plain": [
       "a    3\n",
       "b    5\n",
       "c    7\n",
       "dtype: int64"
      ]
     },
     "execution_count": 77,
     "metadata": {},
     "output_type": "execute_result"
    }
   ],
   "source": [
    "a1 = pd.Series([1,2,3],index=['a','b','c'])\n",
    "a1\n",
    "\n",
    "\n",
    "b2 = pd.Series([2,3,4],index=['a','b','c'])\n",
    "b2\n",
    "\n",
    "a1+b2\n"
   ]
  },
  {
   "cell_type": "code",
   "execution_count": 78,
   "id": "c4f40bd5",
   "metadata": {},
   "outputs": [
    {
     "data": {
      "text/plain": [
       "a    3.0\n",
       "b    5.0\n",
       "c    NaN\n",
       "d    NaN\n",
       "dtype: float64"
      ]
     },
     "execution_count": 78,
     "metadata": {},
     "output_type": "execute_result"
    }
   ],
   "source": [
    "a1 = pd.Series([1,2,3],index=['a','b','c'])\n",
    "a1\n",
    "\n",
    "\n",
    "b2 = pd.Series([2,3,4],index=['a','b','d'])\n",
    "b2\n",
    "\n",
    "a1+b2\n",
    "\n",
    "# As index are different, it shows NaN. "
   ]
  },
  {
   "cell_type": "markdown",
   "id": "a7a78926",
   "metadata": {},
   "source": [
    " Extract index based on Position, Label."
   ]
  },
  {
   "cell_type": "code",
   "execution_count": 79,
   "id": "b76b1290",
   "metadata": {},
   "outputs": [
    {
     "data": {
      "text/plain": [
       "a    1\n",
       "b    2\n",
       "c    3\n",
       "dtype: int64"
      ]
     },
     "execution_count": 79,
     "metadata": {},
     "output_type": "execute_result"
    }
   ],
   "source": [
    "s1"
   ]
  },
  {
   "cell_type": "code",
   "execution_count": 80,
   "id": "58ca797c",
   "metadata": {},
   "outputs": [
    {
     "name": "stdout",
     "output_type": "stream",
     "text": [
      "3\n"
     ]
    }
   ],
   "source": [
    "# Position Based Indexing\n",
    "\n",
    "s1_index_value = s1.iloc[2]\n",
    "s1_index_value\n",
    "print(s1_index_value)\n"
   ]
  },
  {
   "cell_type": "code",
   "execution_count": 81,
   "id": "179631ef",
   "metadata": {},
   "outputs": [
    {
     "data": {
      "text/plain": [
       "a    1\n",
       "b    2\n",
       "c    3\n",
       "dtype: int64"
      ]
     },
     "execution_count": 81,
     "metadata": {},
     "output_type": "execute_result"
    }
   ],
   "source": [
    "s1"
   ]
  },
  {
   "cell_type": "code",
   "execution_count": 85,
   "id": "fe223658",
   "metadata": {},
   "outputs": [
    {
     "name": "stdout",
     "output_type": "stream",
     "text": [
      "1\n"
     ]
    }
   ],
   "source": [
    "# Label based Indexing\n",
    "s1.loc['a']\n",
    "print(s1.loc['a'])\n",
    "\n"
   ]
  },
  {
   "cell_type": "code",
   "execution_count": 86,
   "id": "7272dbf2",
   "metadata": {},
   "outputs": [
    {
     "data": {
      "text/plain": [
       "[4, 'hi', 'hello', 8, 450.5]"
      ]
     },
     "execution_count": 86,
     "metadata": {},
     "output_type": "execute_result"
    }
   ],
   "source": [
    "# List\n",
    "list1 = [4,'hi','hello',8,450.50]\n",
    "list1"
   ]
  },
  {
   "cell_type": "code",
   "execution_count": 88,
   "id": "326330c2",
   "metadata": {},
   "outputs": [
    {
     "data": {
      "text/plain": [
       "[4, 'hi', 'hello']"
      ]
     },
     "execution_count": 88,
     "metadata": {},
     "output_type": "execute_result"
    }
   ],
   "source": [
    "# Range.\n",
    "\n",
    "list1[0:3]\n",
    "\n",
    "# Last Range is excluded in Position based indexing.\n"
   ]
  },
  {
   "cell_type": "code",
   "execution_count": 90,
   "id": "d4517f44",
   "metadata": {},
   "outputs": [
    {
     "data": {
      "text/plain": [
       "a        4\n",
       "b       hi\n",
       "c    hello\n",
       "d        8\n",
       "e    450.5\n",
       "dtype: object"
      ]
     },
     "execution_count": 90,
     "metadata": {},
     "output_type": "execute_result"
    }
   ],
   "source": [
    "list1\n",
    "list_c = pd.Series(list1,index=['a','b','c','d','e'])\n",
    "list_c"
   ]
  },
  {
   "cell_type": "code",
   "execution_count": 93,
   "id": "fbdb076c",
   "metadata": {},
   "outputs": [
    {
     "data": {
      "text/plain": [
       "a        4\n",
       "b       hi\n",
       "c    hello\n",
       "d        8\n",
       "dtype: object"
      ]
     },
     "execution_count": 93,
     "metadata": {},
     "output_type": "execute_result"
    }
   ],
   "source": [
    "# Range on label based indexing.\n",
    "\n",
    "list_c['a':'d']\n",
    "# Last Range is included in label based indexing."
   ]
  },
  {
   "cell_type": "code",
   "execution_count": 96,
   "id": "abb705e0",
   "metadata": {},
   "outputs": [
    {
     "data": {
      "text/plain": [
       "a        4\n",
       "b       hi\n",
       "c    hello\n",
       "d        8\n",
       "e    450.5\n",
       "dtype: object"
      ]
     },
     "execution_count": 96,
     "metadata": {},
     "output_type": "execute_result"
    }
   ],
   "source": [
    "list_c"
   ]
  },
  {
   "cell_type": "code",
   "execution_count": null,
   "id": "13a4fa4f",
   "metadata": {},
   "outputs": [
    {
     "data": {
      "text/plain": [
       "a        4\n",
       "c    hello\n",
       "e    450.5\n",
       "dtype: object"
      ]
     },
     "execution_count": 98,
     "metadata": {},
     "output_type": "execute_result"
    }
   ],
   "source": [
    "# If i need to get list output with a, c, e. Random Label indexing will require []\n",
    "\n",
    "list_c[['a','c','e']]\n",
    "\n",
    "# List needs to be passed with values inside the [] parenthesis."
   ]
  },
  {
   "cell_type": "code",
   "execution_count": null,
   "id": "d34c6b5f",
   "metadata": {},
   "outputs": [],
   "source": []
  }
 ],
 "metadata": {
  "kernelspec": {
   "display_name": "Python 3",
   "language": "python",
   "name": "python3"
  },
  "language_info": {
   "codemirror_mode": {
    "name": "ipython",
    "version": 3
   },
   "file_extension": ".py",
   "mimetype": "text/x-python",
   "name": "python",
   "nbconvert_exporter": "python",
   "pygments_lexer": "ipython3",
   "version": "3.12.4"
  }
 },
 "nbformat": 4,
 "nbformat_minor": 5
}
