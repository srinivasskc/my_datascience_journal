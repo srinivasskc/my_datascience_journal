{
 "cells": [
  {
   "cell_type": "markdown",
   "id": "1054bc59",
   "metadata": {},
   "source": [
    "This is my first markdown"
   ]
  },
  {
   "cell_type": "code",
   "execution_count": 5,
   "id": "ceaecfd0",
   "metadata": {},
   "outputs": [
    {
     "name": "stdout",
     "output_type": "stream",
     "text": [
      "This is python script from notebook jupyter\n"
     ]
    }
   ],
   "source": [
    "print(\"This is python script from notebook jupyter\") # This is a simple comment"
   ]
  },
  {
   "cell_type": "code",
   "execution_count": 6,
   "id": "682da282",
   "metadata": {},
   "outputs": [],
   "source": [
    "# This is a simple Python script that prints a message."
   ]
  },
  {
   "cell_type": "markdown",
   "id": "03edf257",
   "metadata": {},
   "source": [
    "Variables and Data Types"
   ]
  },
  {
   "cell_type": "code",
   "execution_count": 7,
   "id": "53df5e78",
   "metadata": {},
   "outputs": [
    {
     "name": "stdout",
     "output_type": "stream",
     "text": [
      "Name: Srinivas, Type: <class 'str'>\n",
      "Age: 30, Type: <class 'int'>\n",
      "Height: 5.10, Type: <class 'float'>\n",
      "is_student: False, Type: <class 'bool'>\n"
     ]
    }
   ],
   "source": [
    "name = \"Srinivas\"\n",
    "type_of_name = type(name)\n",
    "\n",
    "\n",
    "age = 30\n",
    "type_of_age = type(age)\n",
    "\n",
    "height = 5.10\n",
    "type_of_height = type(height)\n",
    "\n",
    "print(f\"Name: {name}, Type: {type_of_name}\")\n",
    "print(f\"Age: {age}, Type: {type_of_age}\")\n",
    "print(f\"Height: {height:.2f}, Type: {type_of_height}\")\n",
    "\n",
    "is_student = False\n",
    "type_of_is_student = type(is_student)\n",
    "print(f\"is_student: {is_student}, Type: {type_of_is_student}\")\n",
    "\n"
   ]
  },
  {
   "cell_type": "code",
   "execution_count": 8,
   "id": "9714d5ce",
   "metadata": {},
   "outputs": [
    {
     "name": "stdout",
     "output_type": "stream",
     "text": [
      "Hello, World!\n"
     ]
    }
   ],
   "source": [
    "message = \"Hello, World!\"\n",
    "print(message)\n"
   ]
  },
  {
   "cell_type": "code",
   "execution_count": 9,
   "id": "1a8ca9cb",
   "metadata": {},
   "outputs": [
    {
     "name": "stdout",
     "output_type": "stream",
     "text": [
      "Number: 42, Type: <class 'int'>\n",
      "Number: 0, Type: <class 'int'>\n"
     ]
    }
   ],
   "source": [
    "number = 42\n",
    "type(number)\n",
    "print(f\"Number: {number}, Type: {type(number)}\")\n",
    "\n",
    "number = 0\n",
    "type(number)\n",
    "print(f\"Number: {number}, Type: {type(number)}\")\n"
   ]
  },
  {
   "cell_type": "code",
   "execution_count": 10,
   "id": "3dcde8c9",
   "metadata": {},
   "outputs": [
    {
     "name": "stdout",
     "output_type": "stream",
     "text": [
      "Clark\n",
      "30\n",
      "True\n",
      "Birthday Party\n",
      "2023-10-01\n",
      "18:00\n"
     ]
    }
   ],
   "source": [
    "name = \"Clark\"\n",
    "age = 30\n",
    "is_adult = True\n",
    "\n",
    "print(name)\n",
    "print(age)\n",
    "print(is_adult)\n",
    "\n",
    "event_name = \"Birthday Party\"\n",
    "event_date = \"2023-10-01\"\n",
    "event_time = \"18:00\"\n",
    "print(event_name)\n",
    "print(event_date)\n",
    "print(event_time)\n",
    "\n",
    "\n"
   ]
  },
  {
   "cell_type": "code",
   "execution_count": 11,
   "id": "20043cb1",
   "metadata": {},
   "outputs": [
    {
     "name": "stdout",
     "output_type": "stream",
     "text": [
      "This is a snake_case variable\n",
      "This is a CamelCase variable\n"
     ]
    }
   ],
   "source": [
    "snake_case_variable = \"This is a snake_case variable\"\n",
    "CamelCaseVariable = \"This is a CamelCase variable\"\n",
    "print(snake_case_variable)\n",
    "print(CamelCaseVariable)"
   ]
  },
  {
   "cell_type": "markdown",
   "id": "93e232f9",
   "metadata": {},
   "source": [
    "Arithmetic Operators\n"
   ]
  },
  {
   "cell_type": "code",
   "execution_count": 12,
   "id": "ea33dc29",
   "metadata": {},
   "outputs": [
    {
     "name": "stdout",
     "output_type": "stream",
     "text": [
      "Addition Result: 30\n",
      "15\n",
      "Subtraction Result: 10\n"
     ]
    },
    {
     "data": {
      "text/plain": [
       "2.0"
      ]
     },
     "execution_count": 12,
     "metadata": {},
     "output_type": "execute_result"
    }
   ],
   "source": [
    "num1 = 10\n",
    "num2 = 20\n",
    "addition_result = num1 + num2\n",
    "print(\"Addition Result:\", addition_result)\n",
    "\n",
    "print(10+5)\n",
    "\n",
    "subtraction = num2 - num1\n",
    "print(\"Subtraction Result:\", subtraction)\n",
    "subtraction\n",
    "# In Jupyter notebook, no need to use print to display the result. we can directly write the variable name.\n",
    "\n",
    "# If we add like below, the last variable will be displayed as output - ignoring the multiplication variable.\n",
    "multiplication = num1 * num2\n",
    "multiplication\n",
    "\n",
    "division = num2 / num1\n",
    "division"
   ]
  },
  {
   "cell_type": "code",
   "execution_count": 13,
   "id": "d902dbf9",
   "metadata": {},
   "outputs": [
    {
     "data": {
      "text/plain": [
       "200"
      ]
     },
     "execution_count": 13,
     "metadata": {},
     "output_type": "execute_result"
    }
   ],
   "source": [
    "\n",
    "# Multiplication\n",
    "multiplication = num1 * num2\n",
    "multiplication\n"
   ]
  },
  {
   "cell_type": "code",
   "execution_count": 14,
   "id": "2c4723e0",
   "metadata": {},
   "outputs": [
    {
     "data": {
      "text/plain": [
       "2.0"
      ]
     },
     "execution_count": 14,
     "metadata": {},
     "output_type": "execute_result"
    }
   ],
   "source": [
    "\n",
    "# Division\n",
    "division = num2 / num1\n",
    "division"
   ]
  },
  {
   "cell_type": "code",
   "execution_count": 15,
   "id": "0310b8d8",
   "metadata": {},
   "outputs": [
    {
     "data": {
      "text/plain": [
       "1000"
      ]
     },
     "execution_count": 15,
     "metadata": {},
     "output_type": "execute_result"
    }
   ],
   "source": [
    "# Exponentiation\n",
    "exponentiation = num1 ** 3\n",
    "exponentiation"
   ]
  },
  {
   "cell_type": "code",
   "execution_count": 16,
   "id": "8033d9ea",
   "metadata": {},
   "outputs": [
    {
     "name": "stdout",
     "output_type": "stream",
     "text": [
      "Result of PEMDAS example: 9.0\n"
     ]
    }
   ],
   "source": [
    "# PEMDAS - \n",
    "# Parentheses, Exponents, Multiplication and Division (from left to right), \n",
    "# Addition and Subtraction (from left to right)\n",
    "\n",
    "# Example of PEMDAS\n",
    "result = (2 + 3) * (4 - 1) ** 2 / 5\n",
    "# 5 * 3 ** 2 / 5\n",
    "# 5 * 9 / 5\n",
    "# 45 / 5 \n",
    "print(\"Result of PEMDAS example:\", result)"
   ]
  },
  {
   "cell_type": "code",
   "execution_count": 17,
   "id": "cdd0a6ce",
   "metadata": {},
   "outputs": [
    {
     "data": {
      "text/plain": [
       "5"
      ]
     },
     "execution_count": 17,
     "metadata": {},
     "output_type": "execute_result"
    }
   ],
   "source": [
    "total = 0\n",
    "total += 5\n",
    "total\n",
    "\n",
    "\n"
   ]
  },
  {
   "cell_type": "code",
   "execution_count": 18,
   "id": "7802bc00",
   "metadata": {},
   "outputs": [
    {
     "data": {
      "text/plain": [
       "2"
      ]
     },
     "execution_count": 18,
     "metadata": {},
     "output_type": "execute_result"
    }
   ],
   "source": [
    "total -= 3 # total = total - 3\n",
    "total"
   ]
  },
  {
   "cell_type": "code",
   "execution_count": 19,
   "id": "7c2d6b05",
   "metadata": {},
   "outputs": [
    {
     "data": {
      "text/plain": [
       "6"
      ]
     },
     "execution_count": 19,
     "metadata": {},
     "output_type": "execute_result"
    }
   ],
   "source": [
    "total *= 3 # total = total * 3\n",
    "total"
   ]
  },
  {
   "cell_type": "code",
   "execution_count": 20,
   "id": "13336d13",
   "metadata": {},
   "outputs": [
    {
     "data": {
      "text/plain": [
       "2.0"
      ]
     },
     "execution_count": 20,
     "metadata": {},
     "output_type": "execute_result"
    }
   ],
   "source": [
    "total /= 3 # total = total / 3\n",
    "total"
   ]
  },
  {
   "cell_type": "markdown",
   "id": "67e612ca",
   "metadata": {},
   "source": [
    "Comparison Operators\n"
   ]
  },
  {
   "cell_type": "code",
   "execution_count": 21,
   "id": "3540a050",
   "metadata": {},
   "outputs": [
    {
     "data": {
      "text/plain": [
       "False"
      ]
     },
     "execution_count": 21,
     "metadata": {},
     "output_type": "execute_result"
    }
   ],
   "source": [
    "# Comparison Operators\n",
    "x = 5\n",
    "y = 10\n",
    "\n",
    "# If x is equal to y\n",
    "result = (x == y)\n",
    "result = x == y\n",
    "\n",
    "result\n"
   ]
  },
  {
   "cell_type": "code",
   "execution_count": 22,
   "id": "e0bb781e",
   "metadata": {},
   "outputs": [
    {
     "data": {
      "text/plain": [
       "True"
      ]
     },
     "execution_count": 22,
     "metadata": {},
     "output_type": "execute_result"
    }
   ],
   "source": [
    "result1 = (x != y) # If x is not equal to y\n",
    "result1"
   ]
  },
  {
   "cell_type": "code",
   "execution_count": 23,
   "id": "78041bae",
   "metadata": {},
   "outputs": [
    {
     "name": "stdout",
     "output_type": "stream",
     "text": [
      "True\n",
      "False\n",
      "False\n",
      "True\n"
     ]
    }
   ],
   "source": [
    "a = 15\n",
    "b = 20\n",
    "\n",
    "result2 = (a < b)  # If a is less than b\n",
    "print(result2)\n",
    "\n",
    "result3 = (a > b)  # If a is greater than b\n",
    "print(result3)\n",
    "\n",
    "result4 = (a >= b)  # If a is greater than equalto b\n",
    "print(result4)\n",
    "\n",
    "\n",
    "result5 = (a <= b)  # If a is less than equalto b\n",
    "print(result5)"
   ]
  },
  {
   "cell_type": "code",
   "execution_count": 24,
   "id": "238150a3",
   "metadata": {},
   "outputs": [
    {
     "name": "stdout",
     "output_type": "stream",
     "text": [
      "True\n"
     ]
    }
   ],
   "source": [
    "num = 15\n",
    "result = 10 <= num <= 20  # If num is between 10 and 20 (inclusive)\n",
    "# 10 <= num and num <= 20 = True and True = True\n",
    "print(result)"
   ]
  },
  {
   "cell_type": "code",
   "execution_count": 25,
   "id": "51623e3b",
   "metadata": {},
   "outputs": [
    {
     "name": "stdout",
     "output_type": "stream",
     "text": [
      "False\n"
     ]
    }
   ],
   "source": [
    "num = 15\n",
    "result = 10 >= num >= 20  # Checks: 10 >= num and num >= 20 = False and False = False\n",
    "print(result)"
   ]
  },
  {
   "cell_type": "code",
   "execution_count": 26,
   "id": "18b5f9df",
   "metadata": {},
   "outputs": [
    {
     "name": "stdout",
     "output_type": "stream",
     "text": [
      "True\n",
      "False\n"
     ]
    }
   ],
   "source": [
    "variable1 = 10\n",
    "variable2 = 10\n",
    "is_variable_result = variable1 is variable2\n",
    "print(is_variable_result)\n",
    "\n",
    "is_not_variable_result = variable1 is not variable2\n",
    "print(is_not_variable_result)\n",
    "\n",
    "\n"
   ]
  },
  {
   "cell_type": "markdown",
   "id": "a50e8487",
   "metadata": {},
   "source": [
    "String Manipulation\n"
   ]
  },
  {
   "cell_type": "code",
   "execution_count": 27,
   "id": "85c5b06b",
   "metadata": {},
   "outputs": [
    {
     "data": {
      "text/plain": [
       "14"
      ]
     },
     "execution_count": 27,
     "metadata": {},
     "output_type": "execute_result"
    }
   ],
   "source": [
    "greeting = \"Hello, Python!\"\n",
    "\n",
    "len(greeting)  # Returns the length of the string"
   ]
  },
  {
   "cell_type": "code",
   "execution_count": 28,
   "id": "d37a6f7b",
   "metadata": {},
   "outputs": [
    {
     "data": {
      "text/plain": [
       "'H'"
      ]
     },
     "execution_count": 28,
     "metadata": {},
     "output_type": "execute_result"
    }
   ],
   "source": [
    "greeting[0]  # Accessing the first character of the string\n"
   ]
  },
  {
   "cell_type": "code",
   "execution_count": 29,
   "id": "5c721bb8",
   "metadata": {},
   "outputs": [
    {
     "data": {
      "text/plain": [
       "'P'"
      ]
     },
     "execution_count": 29,
     "metadata": {},
     "output_type": "execute_result"
    }
   ],
   "source": [
    "greeting[7] # Accessing the character at index 7 of the string"
   ]
  },
  {
   "cell_type": "code",
   "execution_count": 30,
   "id": "3abc8e93",
   "metadata": {},
   "outputs": [
    {
     "data": {
      "text/plain": [
       "'n'"
      ]
     },
     "execution_count": 30,
     "metadata": {},
     "output_type": "execute_result"
    }
   ],
   "source": [
    "greeting[-2] # Accessing the second last character of the string"
   ]
  },
  {
   "cell_type": "code",
   "execution_count": 31,
   "id": "876521ac",
   "metadata": {},
   "outputs": [
    {
     "data": {
      "text/plain": [
       "'Hello, Python!'"
      ]
     },
     "execution_count": 31,
     "metadata": {},
     "output_type": "execute_result"
    }
   ],
   "source": [
    "greeting"
   ]
  },
  {
   "cell_type": "code",
   "execution_count": 32,
   "id": "0e0f7dfe",
   "metadata": {},
   "outputs": [
    {
     "data": {
      "text/plain": [
       "'Python'"
      ]
     },
     "execution_count": 32,
     "metadata": {},
     "output_type": "execute_result"
    }
   ],
   "source": [
    "greeting[7:13]\n"
   ]
  },
  {
   "cell_type": "code",
   "execution_count": 33,
   "id": "caa72ccc",
   "metadata": {},
   "outputs": [
    {
     "data": {
      "text/plain": [
       "'Hello, Python! Welcome'"
      ]
     },
     "execution_count": 33,
     "metadata": {},
     "output_type": "execute_result"
    }
   ],
   "source": [
    "greeting + \" Welcome\""
   ]
  },
  {
   "cell_type": "code",
   "execution_count": 34,
   "id": "951faf65",
   "metadata": {},
   "outputs": [
    {
     "name": "stdout",
     "output_type": "stream",
     "text": [
      "Hello, Python! Welcome\n"
     ]
    }
   ],
   "source": [
    "print(greeting + \" \" + \"Welcome\")"
   ]
  },
  {
   "cell_type": "code",
   "execution_count": 35,
   "id": "3fe5f5ea",
   "metadata": {},
   "outputs": [
    {
     "name": "stdout",
     "output_type": "stream",
     "text": [
      "Hello, Python! Welcome 2025\n"
     ]
    }
   ],
   "source": [
    "print(greeting + \" \" + \"Welcome\" + \" 2025\")"
   ]
  },
  {
   "cell_type": "code",
   "execution_count": 36,
   "id": "9ae8311b",
   "metadata": {},
   "outputs": [
    {
     "data": {
      "text/plain": [
       "str"
      ]
     },
     "execution_count": 36,
     "metadata": {},
     "output_type": "execute_result"
    }
   ],
   "source": [
    "type(\"25\")"
   ]
  },
  {
   "cell_type": "code",
   "execution_count": 37,
   "id": "564e2df0",
   "metadata": {},
   "outputs": [],
   "source": [
    "sentence = \"This is a sample sentence.\""
   ]
  },
  {
   "cell_type": "code",
   "execution_count": 38,
   "id": "931b8e2d",
   "metadata": {},
   "outputs": [
    {
     "data": {
      "text/plain": [
       "'THIS IS A SAMPLE SENTENCE.'"
      ]
     },
     "execution_count": 38,
     "metadata": {},
     "output_type": "execute_result"
    }
   ],
   "source": [
    "sentence.upper()  # Converts the string to uppercase"
   ]
  },
  {
   "cell_type": "code",
   "execution_count": 39,
   "id": "38da0bc6",
   "metadata": {},
   "outputs": [
    {
     "data": {
      "text/plain": [
       "'this is a sample sentence.'"
      ]
     },
     "execution_count": 39,
     "metadata": {},
     "output_type": "execute_result"
    }
   ],
   "source": [
    "sentence.lower()  # Converts the string to lowercase"
   ]
  },
  {
   "cell_type": "code",
   "execution_count": 40,
   "id": "fe21d49b",
   "metadata": {},
   "outputs": [
    {
     "data": {
      "text/plain": [
       "10"
      ]
     },
     "execution_count": 40,
     "metadata": {},
     "output_type": "execute_result"
    }
   ],
   "source": [
    "sentence.find(\"sample\")  # Finds the index of the substring \"sample\" in the sentence"
   ]
  },
  {
   "cell_type": "code",
   "execution_count": 41,
   "id": "d3b32a55",
   "metadata": {},
   "outputs": [
    {
     "data": {
      "text/plain": [
       "'s'"
      ]
     },
     "execution_count": 41,
     "metadata": {},
     "output_type": "execute_result"
    }
   ],
   "source": [
    "sentence[10]"
   ]
  },
  {
   "cell_type": "code",
   "execution_count": 42,
   "id": "530a80f2",
   "metadata": {},
   "outputs": [
    {
     "data": {
      "text/plain": [
       "'This is a example sentence.'"
      ]
     },
     "execution_count": 42,
     "metadata": {},
     "output_type": "execute_result"
    }
   ],
   "source": [
    "sentence.replace(\"sample\", \"example\")  # Replaces \"sample\" with \"example\" in the sentence"
   ]
  },
  {
   "cell_type": "code",
   "execution_count": 43,
   "id": "9ffb6cb3",
   "metadata": {},
   "outputs": [
    {
     "data": {
      "text/plain": [
       "'This is a sample sentence.'"
      ]
     },
     "execution_count": 43,
     "metadata": {},
     "output_type": "execute_result"
    }
   ],
   "source": [
    "sentence"
   ]
  },
  {
   "cell_type": "code",
   "execution_count": 45,
   "id": "8b615613",
   "metadata": {},
   "outputs": [],
   "source": [
    "sentence = sentence.replace(\"sample\", \"example\")  # Replaces \"sample\" with \"example\" in the sentence"
   ]
  },
  {
   "cell_type": "code",
   "execution_count": 46,
   "id": "1c46c9db",
   "metadata": {},
   "outputs": [
    {
     "data": {
      "text/plain": [
       "'This is a example sentence.'"
      ]
     },
     "execution_count": 46,
     "metadata": {},
     "output_type": "execute_result"
    }
   ],
   "source": [
    "sentence\n"
   ]
  },
  {
   "cell_type": "code",
   "execution_count": 47,
   "id": "e7bd0c07",
   "metadata": {},
   "outputs": [
    {
     "data": {
      "text/plain": [
       "True"
      ]
     },
     "execution_count": 47,
     "metadata": {},
     "output_type": "execute_result"
    }
   ],
   "source": [
    "sentence.endswith(\"sentence.\")  # Checks if the sentence ends with \"sentence.\""
   ]
  },
  {
   "cell_type": "code",
   "execution_count": 48,
   "id": "e5097578",
   "metadata": {},
   "outputs": [
    {
     "data": {
      "text/plain": [
       "5"
      ]
     },
     "execution_count": 48,
     "metadata": {},
     "output_type": "execute_result"
    }
   ],
   "source": [
    "sentence.count(\"e\")  # Counts the occurrences of \"e\" in the sentence"
   ]
  },
  {
   "cell_type": "markdown",
   "id": "aa0f24fb",
   "metadata": {},
   "source": [
    "String Formatting\n"
   ]
  },
  {
   "cell_type": "code",
   "execution_count": 50,
   "id": "0a937b29",
   "metadata": {},
   "outputs": [],
   "source": [
    "name = \"Srinivas\"\n",
    "age = 30"
   ]
  },
  {
   "cell_type": "code",
   "execution_count": 53,
   "id": "711cc21e",
   "metadata": {},
   "outputs": [
    {
     "data": {
      "text/plain": [
       "'Hello, my name is Srinivas and I am 30 years old.'"
      ]
     },
     "execution_count": 53,
     "metadata": {},
     "output_type": "execute_result"
    }
   ],
   "source": [
    "formatted_string = f\"Hello, my name is {name} and I am {age} years old.\"\n",
    "formatted_string"
   ]
  },
  {
   "cell_type": "code",
   "execution_count": 56,
   "id": "23e0c5b4",
   "metadata": {},
   "outputs": [
    {
     "data": {
      "text/plain": [
       "'Hello, my name is Srinivas and I am 30 years old.'"
      ]
     },
     "execution_count": 56,
     "metadata": {},
     "output_type": "execute_result"
    }
   ],
   "source": [
    "formatted_string2 = \"Hello, my name is {} and I am {} years old.\".format(name, age)\n",
    "formatted_string2"
   ]
  },
  {
   "cell_type": "markdown",
   "id": "993ee2aa",
   "metadata": {},
   "source": [
    "Conditional Statements"
   ]
  },
  {
   "cell_type": "code",
   "execution_count": 64,
   "id": "d8d54e15",
   "metadata": {},
   "outputs": [
    {
     "name": "stdout",
     "output_type": "stream",
     "text": [
      "You are an adult\n"
     ]
    }
   ],
   "source": [
    "age = 25\n",
    "\n",
    "if age>=18:\n",
    "    print(\"You are an adult\")"
   ]
  },
  {
   "cell_type": "code",
   "execution_count": 65,
   "id": "0334c28c",
   "metadata": {},
   "outputs": [
    {
     "name": "stdout",
     "output_type": "stream",
     "text": [
      "You are not an adult\n"
     ]
    }
   ],
   "source": [
    "age = 15\n",
    "\n",
    "if age>=18:\n",
    "    print(\"You are an adult\")\n",
    "else:\n",
    "    print(\"You are not an adult\")"
   ]
  },
  {
   "cell_type": "code",
   "execution_count": 71,
   "id": "b213ba83",
   "metadata": {},
   "outputs": [
    {
     "name": "stdout",
     "output_type": "stream",
     "text": [
      "It's a pleasant day.\n"
     ]
    }
   ],
   "source": [
    "temperature = 25\n",
    "\n",
    "if temperature > 30: # If temperature is greater than 30\n",
    "    print(\"It's a hot day.\")\n",
    "elif 20<= temperature <= 30:  # If temperature is between 20 and 30 (inclusive)\n",
    "    print(\"It's a pleasant day.\")\n",
    "else: # If temperature is less than 20\n",
    "    print(\"It's a cold day.\")"
   ]
  },
  {
   "cell_type": "code",
   "execution_count": 72,
   "id": "393bf926",
   "metadata": {},
   "outputs": [],
   "source": [
    "is_raining = True\n",
    "is_cold = False"
   ]
  },
  {
   "cell_type": "code",
   "execution_count": 73,
   "id": "1157a09d",
   "metadata": {},
   "outputs": [
    {
     "name": "stdout",
     "output_type": "stream",
     "text": [
      "Take an umbrella.\n",
      "It's not cold, just take an umbrella.\n"
     ]
    }
   ],
   "source": [
    "if is_raining:\n",
    "    print(\"Take an umbrella.\")\n",
    "    if is_cold:\n",
    "        print(\"It's also cold, wear a jacket.\")\n",
    "    else:\n",
    "        print(\"It's not cold, just take an umbrella.\")\n",
    "else:\n",
    "    print(\"No need for an umbrella today.\")"
   ]
  },
  {
   "cell_type": "markdown",
   "id": "3cea7a07",
   "metadata": {},
   "source": [
    "Ternary Operator"
   ]
  },
  {
   "cell_type": "code",
   "execution_count": 75,
   "id": "73d37cf6",
   "metadata": {},
   "outputs": [
    {
     "data": {
      "text/plain": [
       "'You are allowed to vote.'"
      ]
     },
     "execution_count": 75,
     "metadata": {},
     "output_type": "execute_result"
    }
   ],
   "source": [
    "age = 50\n",
    "\n",
    "# value_if_true if condition else value_if_false\n",
    "\"You are allowed to vote.\" if age >= 18 else \"You are not allowed to vote.\"\n"
   ]
  },
  {
   "cell_type": "markdown",
   "id": "13cd5468",
   "metadata": {},
   "source": [
    "For and While Loops - Break and Continue\n",
    "\n"
   ]
  },
  {
   "cell_type": "code",
   "execution_count": 77,
   "id": "04ee7057",
   "metadata": {},
   "outputs": [
    {
     "name": "stdout",
     "output_type": "stream",
     "text": [
      "apple\n",
      "banana\n",
      "cherry\n"
     ]
    }
   ],
   "source": [
    "fruits = [\"apple\", \"banana\", \"cherry\"]\n",
    "for fruit in fruits:\n",
    "    print(fruit)\n",
    "    "
   ]
  },
  {
   "cell_type": "code",
   "execution_count": 81,
   "id": "f607ae3b",
   "metadata": {},
   "outputs": [
    {
     "name": "stdout",
     "output_type": "stream",
     "text": [
      "Number: 0\n",
      "Number: 1\n",
      "Number: 2\n",
      "Number: 3\n",
      "Number: 4\n"
     ]
    }
   ],
   "source": [
    "for number in range(5):\n",
    "    print(\"Number:\", number)"
   ]
  },
  {
   "cell_type": "code",
   "execution_count": 82,
   "id": "3f6533ce",
   "metadata": {},
   "outputs": [
    {
     "name": "stdout",
     "output_type": "stream",
     "text": [
      "Number:  1\n",
      "Number:  2\n",
      "Number:  3\n",
      "Number:  4\n"
     ]
    }
   ],
   "source": [
    "for number in range(1,5):\n",
    "    print(\"Number: \",number)"
   ]
  },
  {
   "cell_type": "code",
   "execution_count": 86,
   "id": "6b2b50f5",
   "metadata": {},
   "outputs": [
    {
     "name": "stdout",
     "output_type": "stream",
     "text": [
      "Count is: 0\n",
      "Count is: 1\n",
      "Count is: 2\n",
      "Count is: 3\n"
     ]
    }
   ],
   "source": [
    "count = 0\n",
    "\n",
    "while count <= 3:\n",
    "    print(\"Count is:\", count)\n",
    "    count += 1  # Increment count by 1"
   ]
  },
  {
   "cell_type": "code",
   "execution_count": 89,
   "id": "f3ff22ca",
   "metadata": {},
   "outputs": [],
   "source": [
    "numbers = [1, 2, 3, 4, 5]"
   ]
  },
  {
   "cell_type": "code",
   "execution_count": 96,
   "id": "fa91a970",
   "metadata": {},
   "outputs": [
    {
     "name": "stdout",
     "output_type": "stream",
     "text": [
      "Number : 1\n",
      "Number : 2\n"
     ]
    }
   ],
   "source": [
    "for number in numbers:\n",
    "    if number == 3:\n",
    "        break  # Exit the loop if number is 3\n",
    "    print(\"Number :\", number)"
   ]
  },
  {
   "cell_type": "code",
   "execution_count": null,
   "id": "a4f3fd28",
   "metadata": {},
   "outputs": [
    {
     "name": "stdout",
     "output_type": "stream",
     "text": [
      "Number : 1\n",
      "Number : 3\n",
      "Number : 5\n"
     ]
    }
   ],
   "source": [
    "for number in numbers:\n",
    "    if number % 2 == 0:\n",
    "        continue  # Skip the rest of the loop if number is divided by 2\n",
    "    print(\"Number :\", number)"
   ]
  },
  {
   "cell_type": "code",
   "execution_count": 99,
   "id": "1397a177",
   "metadata": {},
   "outputs": [
    {
     "data": {
      "text/plain": [
       "'python'"
      ]
     },
     "execution_count": 99,
     "metadata": {},
     "output_type": "execute_result"
    }
   ],
   "source": [
    "word = \"Python\"\n",
    "word.lower()  # Convert the word to lowercase"
   ]
  },
  {
   "cell_type": "code",
   "execution_count": 101,
   "id": "6c8a0a4f",
   "metadata": {},
   "outputs": [
    {
     "name": "stdout",
     "output_type": "stream",
     "text": [
      "P\n",
      "Y\n",
      "T\n",
      "H\n",
      "O\n",
      "N\n"
     ]
    }
   ],
   "source": [
    "for char in word:\n",
    "    print(char.upper())  # Print each character in lowercase"
   ]
  },
  {
   "cell_type": "markdown",
   "id": "dd98a4da",
   "metadata": {},
   "source": [
    "IDENTATION"
   ]
  },
  {
   "cell_type": "code",
   "execution_count": 104,
   "id": "c5a8134c",
   "metadata": {},
   "outputs": [
    {
     "name": "stdout",
     "output_type": "stream",
     "text": [
      "This is an indented block of code.\n",
      "This is another line outside the if block.\n"
     ]
    }
   ],
   "source": [
    "if True:\n",
    "    print(\"This is an indented block of code.\")\n",
    "print(\"This is another line outside the if block.\")"
   ]
  },
  {
   "cell_type": "markdown",
   "id": "041a12f2",
   "metadata": {},
   "source": [
    "Lists, Tuples, Sets and Dictionaries\n"
   ]
  },
  {
   "cell_type": "code",
   "execution_count": 130,
   "id": "f451c0c5",
   "metadata": {},
   "outputs": [
    {
     "name": "stdout",
     "output_type": "stream",
     "text": [
      "['apple', 'banana', 'cherry']\n"
     ]
    }
   ],
   "source": [
    "# Lists are mutable. - we can edit the list\n",
    "\n",
    "fruits = [\"apple\", \"banana\", \"cherry\"]\n",
    "print(fruits)\n"
   ]
  },
  {
   "cell_type": "code",
   "execution_count": 107,
   "id": "d07ec922",
   "metadata": {},
   "outputs": [
    {
     "name": "stdout",
     "output_type": "stream",
     "text": [
      "['apple', 15000.5, 1234567890, 'banana', 'cherry', 42, True, None]\n"
     ]
    }
   ],
   "source": [
    "apple = \"apple\"\n",
    "salary = 15000.50\n",
    "roll_number = 1234567890\n",
    "\n",
    "list_of_variables = [apple, salary, roll_number, \"banana\", \"cherry\", 42, True, None]\n",
    "print(list_of_variables)"
   ]
  },
  {
   "cell_type": "code",
   "execution_count": 108,
   "id": "27fda51c",
   "metadata": {},
   "outputs": [
    {
     "data": {
      "text/plain": [
       "'apple'"
      ]
     },
     "execution_count": 108,
     "metadata": {},
     "output_type": "execute_result"
    }
   ],
   "source": [
    "list_of_variables[0]\n"
   ]
  },
  {
   "cell_type": "code",
   "execution_count": 109,
   "id": "b7c6d343",
   "metadata": {},
   "outputs": [
    {
     "data": {
      "text/plain": [
       "True"
      ]
     },
     "execution_count": 109,
     "metadata": {},
     "output_type": "execute_result"
    }
   ],
   "source": [
    "list_of_variables[6]"
   ]
  },
  {
   "cell_type": "code",
   "execution_count": 110,
   "id": "c10c293e",
   "metadata": {},
   "outputs": [],
   "source": [
    "list_of_variables[7]"
   ]
  },
  {
   "cell_type": "code",
   "execution_count": 114,
   "id": "0841b093",
   "metadata": {},
   "outputs": [
    {
     "data": {
      "text/plain": [
       "15000.5"
      ]
     },
     "execution_count": 114,
     "metadata": {},
     "output_type": "execute_result"
    }
   ],
   "source": [
    "list_of_variables[-7]"
   ]
  },
  {
   "cell_type": "code",
   "execution_count": 115,
   "id": "c53ba099",
   "metadata": {},
   "outputs": [
    {
     "data": {
      "text/plain": [
       "[15000.5, 1234567890]"
      ]
     },
     "execution_count": 115,
     "metadata": {},
     "output_type": "execute_result"
    }
   ],
   "source": [
    "list_of_variables[1:3]"
   ]
  },
  {
   "cell_type": "code",
   "execution_count": 116,
   "id": "eb7a4879",
   "metadata": {},
   "outputs": [
    {
     "data": {
      "text/plain": [
       "list"
      ]
     },
     "execution_count": 116,
     "metadata": {},
     "output_type": "execute_result"
    }
   ],
   "source": [
    "type(list_of_variables)"
   ]
  },
  {
   "cell_type": "code",
   "execution_count": 119,
   "id": "46d60a85",
   "metadata": {},
   "outputs": [],
   "source": [
    "list_of_variables.append(\"Grapes\") # Appending the item to the end of the list"
   ]
  },
  {
   "cell_type": "code",
   "execution_count": 118,
   "id": "f7644991",
   "metadata": {},
   "outputs": [
    {
     "data": {
      "text/plain": [
       "['apple', 15000.5, 1234567890, 'banana', 'cherry', 42, True, None, 'Grapes']"
      ]
     },
     "execution_count": 118,
     "metadata": {},
     "output_type": "execute_result"
    }
   ],
   "source": [
    "list_of_variables"
   ]
  },
  {
   "cell_type": "code",
   "execution_count": 124,
   "id": "921e89bc",
   "metadata": {},
   "outputs": [
    {
     "data": {
      "text/plain": [
       "'Grapes'"
      ]
     },
     "execution_count": 124,
     "metadata": {},
     "output_type": "execute_result"
    }
   ],
   "source": [
    "list_of_variables.pop() # Remove an element from the list at index position"
   ]
  },
  {
   "cell_type": "code",
   "execution_count": 125,
   "id": "2999804c",
   "metadata": {},
   "outputs": [
    {
     "data": {
      "text/plain": [
       "['apple', 15000.5, 1234567890, 'banana', 'cherry', None, 'Grapes']"
      ]
     },
     "execution_count": 125,
     "metadata": {},
     "output_type": "execute_result"
    }
   ],
   "source": [
    "list_of_variables"
   ]
  },
  {
   "cell_type": "code",
   "execution_count": 127,
   "id": "2067f394",
   "metadata": {},
   "outputs": [],
   "source": [
    "list_of_variables.append(\"apple\")\n"
   ]
  },
  {
   "cell_type": "code",
   "execution_count": 128,
   "id": "95b290f1",
   "metadata": {},
   "outputs": [
    {
     "data": {
      "text/plain": [
       "['apple', 15000.5, 1234567890, 'banana', 'cherry', None, 'Grapes', 'apple']"
      ]
     },
     "execution_count": 128,
     "metadata": {},
     "output_type": "execute_result"
    }
   ],
   "source": [
    "list_of_variables\n"
   ]
  },
  {
   "cell_type": "code",
   "execution_count": 129,
   "id": "cc94544d",
   "metadata": {},
   "outputs": [
    {
     "data": {
      "text/plain": [
       "2"
      ]
     },
     "execution_count": 129,
     "metadata": {},
     "output_type": "execute_result"
    }
   ],
   "source": [
    "list_of_variables.count(\"apple\")"
   ]
  },
  {
   "cell_type": "code",
   "execution_count": 137,
   "id": "50158cb9",
   "metadata": {},
   "outputs": [],
   "source": [
    "# Tuples - are immutable. We cant edit the Tuples, elements cannot be changed.\n",
    "\n",
    "dimensions = (10, 20, 15)\n"
   ]
  },
  {
   "cell_type": "code",
   "execution_count": 132,
   "id": "2cd73788",
   "metadata": {},
   "outputs": [
    {
     "data": {
      "text/plain": [
       "[10, 20, 15]"
      ]
     },
     "execution_count": 132,
     "metadata": {},
     "output_type": "execute_result"
    }
   ],
   "source": [
    "dimensions\n"
   ]
  },
  {
   "cell_type": "code",
   "execution_count": 133,
   "id": "c548e11f",
   "metadata": {},
   "outputs": [
    {
     "data": {
      "text/plain": [
       "15"
      ]
     },
     "execution_count": 133,
     "metadata": {},
     "output_type": "execute_result"
    }
   ],
   "source": [
    "dimensions[2]"
   ]
  },
  {
   "cell_type": "code",
   "execution_count": 134,
   "id": "38eea1eb",
   "metadata": {},
   "outputs": [
    {
     "data": {
      "text/plain": [
       "20"
      ]
     },
     "execution_count": 134,
     "metadata": {},
     "output_type": "execute_result"
    }
   ],
   "source": [
    "dimensions[1]"
   ]
  },
  {
   "cell_type": "code",
   "execution_count": 135,
   "id": "1d39c073",
   "metadata": {},
   "outputs": [
    {
     "data": {
      "text/plain": [
       "15"
      ]
     },
     "execution_count": 135,
     "metadata": {},
     "output_type": "execute_result"
    }
   ],
   "source": [
    "dimensions[-1]"
   ]
  },
  {
   "cell_type": "code",
   "execution_count": 138,
   "id": "2b4638cc",
   "metadata": {},
   "outputs": [
    {
     "data": {
      "text/plain": [
       "tuple"
      ]
     },
     "execution_count": 138,
     "metadata": {},
     "output_type": "execute_result"
    }
   ],
   "source": [
    "type(dimensions)"
   ]
  },
  {
   "cell_type": "code",
   "execution_count": 140,
   "id": "093adb36",
   "metadata": {},
   "outputs": [],
   "source": [
    "# Dictionaries - Collection of Key, Value pairs\n",
    "\n",
    "student = {\n",
    "    \"name\" : \"srinivas\",\n",
    "    \"age\" : 22,\n",
    "    \"major\" : \"CSE\",\n",
    "    \"is_student\": True\n",
    "}"
   ]
  },
  {
   "cell_type": "code",
   "execution_count": 141,
   "id": "f4819b9f",
   "metadata": {},
   "outputs": [
    {
     "data": {
      "text/plain": [
       "{'name': 'srinivas', 'age': 22, 'major': 'CSE', 'is_student': True}"
      ]
     },
     "execution_count": 141,
     "metadata": {},
     "output_type": "execute_result"
    }
   ],
   "source": [
    "student"
   ]
  },
  {
   "cell_type": "code",
   "execution_count": 142,
   "id": "a898147f",
   "metadata": {},
   "outputs": [
    {
     "data": {
      "text/plain": [
       "dict"
      ]
     },
     "execution_count": 142,
     "metadata": {},
     "output_type": "execute_result"
    }
   ],
   "source": [
    "type(student)"
   ]
  },
  {
   "cell_type": "code",
   "execution_count": 143,
   "id": "6c32dfd7",
   "metadata": {},
   "outputs": [
    {
     "data": {
      "text/plain": [
       "'srinivas'"
      ]
     },
     "execution_count": 143,
     "metadata": {},
     "output_type": "execute_result"
    }
   ],
   "source": [
    "student[\"name\"]"
   ]
  },
  {
   "cell_type": "code",
   "execution_count": 144,
   "id": "b559ca50",
   "metadata": {},
   "outputs": [
    {
     "data": {
      "text/plain": [
       "22"
      ]
     },
     "execution_count": 144,
     "metadata": {},
     "output_type": "execute_result"
    }
   ],
   "source": [
    "student[\"age\"]"
   ]
  },
  {
   "cell_type": "code",
   "execution_count": 145,
   "id": "2fd4a24f",
   "metadata": {},
   "outputs": [
    {
     "data": {
      "text/plain": [
       "'CSE'"
      ]
     },
     "execution_count": 145,
     "metadata": {},
     "output_type": "execute_result"
    }
   ],
   "source": [
    "student[\"major\"]"
   ]
  },
  {
   "cell_type": "code",
   "execution_count": 146,
   "id": "4cc55876",
   "metadata": {},
   "outputs": [],
   "source": [
    "student[\"major\"] = \"CS\""
   ]
  },
  {
   "cell_type": "code",
   "execution_count": 147,
   "id": "8852a867",
   "metadata": {},
   "outputs": [
    {
     "data": {
      "text/plain": [
       "{'name': 'srinivas', 'age': 22, 'major': 'CS', 'is_student': True}"
      ]
     },
     "execution_count": 147,
     "metadata": {},
     "output_type": "execute_result"
    }
   ],
   "source": [
    "student"
   ]
  },
  {
   "cell_type": "code",
   "execution_count": 148,
   "id": "0db85755",
   "metadata": {},
   "outputs": [],
   "source": [
    "student[\"grade\"] = \"A\""
   ]
  },
  {
   "cell_type": "code",
   "execution_count": 149,
   "id": "1be5a813",
   "metadata": {},
   "outputs": [
    {
     "data": {
      "text/plain": [
       "{'name': 'srinivas',\n",
       " 'age': 22,\n",
       " 'major': 'CS',\n",
       " 'is_student': True,\n",
       " 'grade': 'A'}"
      ]
     },
     "execution_count": 149,
     "metadata": {},
     "output_type": "execute_result"
    }
   ],
   "source": [
    "student"
   ]
  },
  {
   "cell_type": "code",
   "execution_count": 150,
   "id": "c5a8fbc5",
   "metadata": {},
   "outputs": [
    {
     "data": {
      "text/plain": [
       "'CS'"
      ]
     },
     "execution_count": 150,
     "metadata": {},
     "output_type": "execute_result"
    }
   ],
   "source": [
    "student.pop(\"major\")\n"
   ]
  },
  {
   "cell_type": "code",
   "execution_count": 151,
   "id": "f3ad0292",
   "metadata": {},
   "outputs": [
    {
     "data": {
      "text/plain": [
       "{'name': 'srinivas', 'age': 22, 'is_student': True, 'grade': 'A'}"
      ]
     },
     "execution_count": 151,
     "metadata": {},
     "output_type": "execute_result"
    }
   ],
   "source": [
    "student"
   ]
  },
  {
   "cell_type": "code",
   "execution_count": 152,
   "id": "5e3a7903",
   "metadata": {},
   "outputs": [],
   "source": [
    "student[\"branch\"] = \"CS\""
   ]
  },
  {
   "cell_type": "code",
   "execution_count": 153,
   "id": "ef20945b",
   "metadata": {},
   "outputs": [
    {
     "data": {
      "text/plain": [
       "{'name': 'srinivas',\n",
       " 'age': 22,\n",
       " 'is_student': True,\n",
       " 'grade': 'A',\n",
       " 'branch': 'CS'}"
      ]
     },
     "execution_count": 153,
     "metadata": {},
     "output_type": "execute_result"
    }
   ],
   "source": [
    "student"
   ]
  },
  {
   "cell_type": "code",
   "execution_count": 1,
   "id": "3e48aea5",
   "metadata": {},
   "outputs": [],
   "source": [
    "# Sets is an unordered and mutable collection of unique elements for testing membership and eliminate duplicate entries.\n",
    "\n",
    "colors_set = {\"red\",\"blue\",\"orange\",\"white\",\"yellow\"}"
   ]
  },
  {
   "cell_type": "code",
   "execution_count": 2,
   "id": "1acb8eeb",
   "metadata": {},
   "outputs": [
    {
     "data": {
      "text/plain": [
       "{'blue', 'orange', 'red', 'white', 'yellow'}"
      ]
     },
     "execution_count": 2,
     "metadata": {},
     "output_type": "execute_result"
    }
   ],
   "source": [
    "colors_set"
   ]
  },
  {
   "cell_type": "code",
   "execution_count": 3,
   "id": "321cc1fd",
   "metadata": {},
   "outputs": [
    {
     "data": {
      "text/plain": [
       "5"
      ]
     },
     "execution_count": 3,
     "metadata": {},
     "output_type": "execute_result"
    }
   ],
   "source": [
    "len(colors_set)"
   ]
  },
  {
   "cell_type": "code",
   "execution_count": 7,
   "id": "7d375ed7",
   "metadata": {},
   "outputs": [
    {
     "data": {
      "text/plain": [
       "False"
      ]
     },
     "execution_count": 7,
     "metadata": {},
     "output_type": "execute_result"
    }
   ],
   "source": [
    "is_green_in_colors_set = \"green\" in colors_set\n",
    "is_green_in_colors_set"
   ]
  },
  {
   "cell_type": "code",
   "execution_count": 6,
   "id": "11383a62",
   "metadata": {},
   "outputs": [
    {
     "data": {
      "text/plain": [
       "True"
      ]
     },
     "execution_count": 6,
     "metadata": {},
     "output_type": "execute_result"
    }
   ],
   "source": [
    "is_orange_in_colors_set = \"orange\" in colors_set\n",
    "is_orange_in_colors_set"
   ]
  },
  {
   "cell_type": "markdown",
   "id": "4f052a5d",
   "metadata": {},
   "source": [
    "List Comprehensions\n",
    "\n",
    "Making the readable lists conventions"
   ]
  },
  {
   "cell_type": "code",
   "execution_count": 12,
   "id": "4a71fede",
   "metadata": {},
   "outputs": [
    {
     "name": "stdout",
     "output_type": "stream",
     "text": [
      "0\n",
      "1\n",
      "4\n",
      "9\n",
      "16\n"
     ]
    }
   ],
   "source": [
    "for num in range(5):\n",
    "    print(num ** 2)"
   ]
  },
  {
   "cell_type": "code",
   "execution_count": 13,
   "id": "e3323c44",
   "metadata": {},
   "outputs": [],
   "source": [
    "# Basic List - Adding numbers to empty square list\n",
    "squares = []\n",
    "for num in range(5):\n",
    "    squares.append(num **2)"
   ]
  },
  {
   "cell_type": "code",
   "execution_count": 14,
   "id": "00139004",
   "metadata": {},
   "outputs": [
    {
     "data": {
      "text/plain": [
       "[0, 1, 4, 9, 16]"
      ]
     },
     "execution_count": 14,
     "metadata": {},
     "output_type": "execute_result"
    }
   ],
   "source": [
    "squares"
   ]
  },
  {
   "cell_type": "code",
   "execution_count": null,
   "id": "e2bb4c90",
   "metadata": {},
   "outputs": [
    {
     "data": {
      "text/plain": [
       "[0, 1, 4, 9, 16]"
      ]
     },
     "execution_count": 16,
     "metadata": {},
     "output_type": "execute_result"
    }
   ],
   "source": [
    "# [expression for item in iterable]\n",
    "squares_list_comprehension = [num **2 for num in range(5)]\n",
    "squares_list_comprehension"
   ]
  },
  {
   "cell_type": "markdown",
   "id": "b8d8a2f5",
   "metadata": {},
   "source": [
    "Nested Data Structures"
   ]
  },
  {
   "cell_type": "code",
   "execution_count": 18,
   "id": "889298f6",
   "metadata": {},
   "outputs": [
    {
     "data": {
      "text/plain": [
       "[[1, 2, 3], [4, 5, 6], [7, 8, 9]]"
      ]
     },
     "execution_count": 18,
     "metadata": {},
     "output_type": "execute_result"
    }
   ],
   "source": [
    "# Nested Lists\n",
    "\n",
    "matrix = [[1,2,3],[4,5,6],[7,8,9]]\n",
    "matrix"
   ]
  },
  {
   "cell_type": "code",
   "execution_count": 19,
   "id": "b0381e59",
   "metadata": {},
   "outputs": [
    {
     "data": {
      "text/plain": [
       "3"
      ]
     },
     "execution_count": 19,
     "metadata": {},
     "output_type": "execute_result"
    }
   ],
   "source": [
    "len(matrix)"
   ]
  },
  {
   "cell_type": "code",
   "execution_count": 20,
   "id": "fd610cf3",
   "metadata": {},
   "outputs": [
    {
     "data": {
      "text/plain": [
       "[4, 5, 6]"
      ]
     },
     "execution_count": 20,
     "metadata": {},
     "output_type": "execute_result"
    }
   ],
   "source": [
    "matrix[1]"
   ]
  },
  {
   "cell_type": "code",
   "execution_count": 21,
   "id": "5e2dbfec",
   "metadata": {},
   "outputs": [
    {
     "data": {
      "text/plain": [
       "5"
      ]
     },
     "execution_count": 21,
     "metadata": {},
     "output_type": "execute_result"
    }
   ],
   "source": [
    "matrix[1][1]"
   ]
  },
  {
   "cell_type": "code",
   "execution_count": 22,
   "id": "e236a55e",
   "metadata": {},
   "outputs": [
    {
     "data": {
      "text/plain": [
       "7"
      ]
     },
     "execution_count": 22,
     "metadata": {},
     "output_type": "execute_result"
    }
   ],
   "source": [
    "matrix[-1][0]"
   ]
  },
  {
   "cell_type": "code",
   "execution_count": 26,
   "id": "14f8503d",
   "metadata": {},
   "outputs": [
    {
     "data": {
      "text/plain": [
       "[[99, 2, 3], [4, 5, 6], [7, 8, 9]]"
      ]
     },
     "execution_count": 26,
     "metadata": {},
     "output_type": "execute_result"
    }
   ],
   "source": [
    "matrix[0][0] = 99\n",
    "matrix"
   ]
  },
  {
   "cell_type": "code",
   "execution_count": 29,
   "id": "396523ac",
   "metadata": {},
   "outputs": [
    {
     "data": {
      "text/plain": [
       "[[99, 2, 3], [4, 5, 6], [7, 8, 9], [100, 101, 102], [100, 101, 102]]"
      ]
     },
     "execution_count": 29,
     "metadata": {},
     "output_type": "execute_result"
    }
   ],
   "source": [
    "new_row = [100,101,102]\n",
    "matrix.append(new_row)\n",
    "matrix"
   ]
  },
  {
   "cell_type": "code",
   "execution_count": 31,
   "id": "a3803872",
   "metadata": {},
   "outputs": [
    {
     "data": {
      "text/plain": [
       "{'srinivas': {'age': 34, 'major': 'Maths'},\n",
       " 'srini': {'age': 32, 'major': 'cse'}}"
      ]
     },
     "execution_count": 31,
     "metadata": {},
     "output_type": "execute_result"
    }
   ],
   "source": [
    "# Dictionary of Dictionaries\n",
    "\n",
    "students = {\n",
    "    \"srinivas\" : {\"age\": 34, \"major\": \"Maths\"},\n",
    "    \"srini\" : {\"age\": 32, \"major\": \"cse\"}\n",
    "}\n",
    "\n",
    "students"
   ]
  },
  {
   "cell_type": "code",
   "execution_count": 32,
   "id": "cb3da387",
   "metadata": {},
   "outputs": [
    {
     "data": {
      "text/plain": [
       "34"
      ]
     },
     "execution_count": 32,
     "metadata": {},
     "output_type": "execute_result"
    }
   ],
   "source": [
    "students[\"srinivas\"][\"age\"]\n"
   ]
  },
  {
   "cell_type": "code",
   "execution_count": 33,
   "id": "8621cf24",
   "metadata": {},
   "outputs": [
    {
     "data": {
      "text/plain": [
       "'cse'"
      ]
     },
     "execution_count": 33,
     "metadata": {},
     "output_type": "execute_result"
    }
   ],
   "source": [
    "students[\"srini\"][\"major\"]"
   ]
  },
  {
   "cell_type": "code",
   "execution_count": 34,
   "id": "614ab2fd",
   "metadata": {},
   "outputs": [],
   "source": [
    "students[\"srini\"][\"major\"]=\"CS\""
   ]
  },
  {
   "cell_type": "code",
   "execution_count": 35,
   "id": "b734b2ca",
   "metadata": {},
   "outputs": [
    {
     "data": {
      "text/plain": [
       "{'srinivas': {'age': 34, 'major': 'Maths'},\n",
       " 'srini': {'age': 32, 'major': 'CS'}}"
      ]
     },
     "execution_count": 35,
     "metadata": {},
     "output_type": "execute_result"
    }
   ],
   "source": [
    "students"
   ]
  },
  {
   "cell_type": "code",
   "execution_count": 38,
   "id": "593dad25",
   "metadata": {},
   "outputs": [],
   "source": [
    "new_student = {\"age\": 35, \"major\": \"physics\"}"
   ]
  },
  {
   "cell_type": "code",
   "execution_count": 39,
   "id": "182705d6",
   "metadata": {},
   "outputs": [],
   "source": [
    "students[\"charlie\"] = new_student"
   ]
  },
  {
   "cell_type": "code",
   "execution_count": 40,
   "id": "603e9e2d",
   "metadata": {},
   "outputs": [
    {
     "data": {
      "text/plain": [
       "{'srinivas': {'age': 34, 'major': 'Maths'},\n",
       " 'srini': {'age': 32, 'major': 'CS'},\n",
       " 'charlie': {'age': 35, 'major': 'physics'}}"
      ]
     },
     "execution_count": 40,
     "metadata": {},
     "output_type": "execute_result"
    }
   ],
   "source": [
    "students"
   ]
  },
  {
   "cell_type": "code",
   "execution_count": 42,
   "id": "c96fc84a",
   "metadata": {},
   "outputs": [],
   "source": [
    "# Nested Dictionary to List\n",
    "\n",
    "people = [\n",
    "    {'srinivas': {'age': 34, 'major': 'Maths'},\n",
    " 'srini': {'age': 32, 'major': 'CS'},\n",
    " 'charlie': {'age': 35, 'major': 'physics'}}\n",
    "]"
   ]
  },
  {
   "cell_type": "code",
   "execution_count": 43,
   "id": "c0935033",
   "metadata": {},
   "outputs": [
    {
     "data": {
      "text/plain": [
       "[{'srinivas': {'age': 34, 'major': 'Maths'},\n",
       "  'srini': {'age': 32, 'major': 'CS'},\n",
       "  'charlie': {'age': 35, 'major': 'physics'}}]"
      ]
     },
     "execution_count": 43,
     "metadata": {},
     "output_type": "execute_result"
    }
   ],
   "source": [
    "people\n"
   ]
  },
  {
   "cell_type": "code",
   "execution_count": 46,
   "id": "c721b538",
   "metadata": {},
   "outputs": [
    {
     "data": {
      "text/plain": [
       "list"
      ]
     },
     "execution_count": 46,
     "metadata": {},
     "output_type": "execute_result"
    }
   ],
   "source": [
    "type(people)"
   ]
  },
  {
   "cell_type": "code",
   "execution_count": null,
   "id": "15dd9f1c",
   "metadata": {},
   "outputs": [
    {
     "data": {
      "text/plain": [
       "dict"
      ]
     },
     "execution_count": 47,
     "metadata": {},
     "output_type": "execute_result"
    }
   ],
   "source": [
    "type(people[0])"
   ]
  },
  {
   "cell_type": "code",
   "execution_count": 49,
   "id": "876d38e6",
   "metadata": {},
   "outputs": [
    {
     "data": {
      "text/plain": [
       "{'age': 34, 'major': 'Maths'}"
      ]
     },
     "execution_count": 49,
     "metadata": {},
     "output_type": "execute_result"
    }
   ],
   "source": [
    "# Fetching the dictionary items in the list\n",
    "people[0][\"srinivas\"]\n"
   ]
  },
  {
   "cell_type": "code",
   "execution_count": 50,
   "id": "fed308c3",
   "metadata": {},
   "outputs": [
    {
     "data": {
      "text/plain": [
       "34"
      ]
     },
     "execution_count": 50,
     "metadata": {},
     "output_type": "execute_result"
    }
   ],
   "source": [
    "people[0][\"srinivas\"][\"age\"]"
   ]
  },
  {
   "cell_type": "markdown",
   "id": "307a281e",
   "metadata": {},
   "source": [
    "Functions\n"
   ]
  },
  {
   "cell_type": "markdown",
   "id": "3b868619",
   "metadata": {},
   "source": [
    "Simple Function"
   ]
  },
  {
   "cell_type": "code",
   "execution_count": 1,
   "id": "5e26f896",
   "metadata": {},
   "outputs": [],
   "source": [
    "def greet():\n",
    "    print(\"Greetings from the greet function!\")"
   ]
  },
  {
   "cell_type": "code",
   "execution_count": 2,
   "id": "87d0ab6a",
   "metadata": {},
   "outputs": [
    {
     "name": "stdout",
     "output_type": "stream",
     "text": [
      "Greetings from the greet function!\n"
     ]
    }
   ],
   "source": [
    "greet()  # Calling the greet function to execute its code"
   ]
  },
  {
   "cell_type": "markdown",
   "id": "428a0957",
   "metadata": {},
   "source": [
    "Parameterized Functions"
   ]
  },
  {
   "cell_type": "code",
   "execution_count": 5,
   "id": "4c2ed9fa",
   "metadata": {},
   "outputs": [],
   "source": [
    "# Input to the function\n",
    "\n",
    "def greet(name):\n",
    "    print(f\"Hello, {name}!\")"
   ]
  },
  {
   "cell_type": "code",
   "execution_count": 6,
   "id": "9a404146",
   "metadata": {},
   "outputs": [
    {
     "name": "stdout",
     "output_type": "stream",
     "text": [
      "Hello, srinivas!\n"
     ]
    }
   ],
   "source": [
    "greet(\"srinivas\") # Calling the greet function with an argument"
   ]
  },
  {
   "cell_type": "markdown",
   "id": "a9d4311f",
   "metadata": {},
   "source": [
    "Default Parameter Function"
   ]
  },
  {
   "cell_type": "code",
   "execution_count": 7,
   "id": "0632833b",
   "metadata": {},
   "outputs": [
    {
     "name": "stdout",
     "output_type": "stream",
     "text": [
      "Hello, Srinivas!\n",
      "Hello, John!\n"
     ]
    }
   ],
   "source": [
    "def greet_with_default(name=\"Srinivas\"):\n",
    "    print(f\"Hello, {name}!\")\n",
    "\n",
    "greet_with_default()  # Calling the function without an argument, will use the default value\n",
    "greet_with_default(\"John\")  # Calling the function with a custom argument"
   ]
  },
  {
   "cell_type": "code",
   "execution_count": 11,
   "id": "d28c5314",
   "metadata": {},
   "outputs": [
    {
     "name": "stdout",
     "output_type": "stream",
     "text": [
      "16\n",
      "25\n"
     ]
    }
   ],
   "source": [
    "def square(number):\n",
    "    return number ** 2\n",
    "\n",
    "\n",
    "print(square(4))  # Calling the square function with an argument\n",
    "\n",
    "result = square(5)  # Calling the square function with an argument\n",
    "print(result)  # Printing the result of the square function"
   ]
  },
  {
   "cell_type": "code",
   "execution_count": 13,
   "id": "205fc48e",
   "metadata": {},
   "outputs": [
    {
     "name": "stdout",
     "output_type": "stream",
     "text": [
      "Area of rectangle is: 50\n"
     ]
    }
   ],
   "source": [
    "def calculate_rectangle_area(length, width):\n",
    "    return length * width\n",
    "\n",
    "result = calculate_rectangle_area(5, 10)  # Calling the function with length and width\n",
    "print(f\"Area of rectangle is: {result}\")"
   ]
  },
  {
   "cell_type": "code",
   "execution_count": 15,
   "id": "d168f800",
   "metadata": {},
   "outputs": [
    {
     "name": "stdout",
     "output_type": "stream",
     "text": [
      "Area of rectangle is: 50, Perimeter of rectangle is: 30\n"
     ]
    }
   ],
   "source": [
    "def calculate_rectangle_area(length, width):\n",
    "    area = length * width\n",
    "    perimeter = 2 * (length + width)\n",
    "    return area, perimeter\n",
    "\n",
    "area , perimeter = calculate_rectangle_area(5, 10)  # Calling the function with length and width\n",
    "print(f\"Area of rectangle is: {area}, Perimeter of rectangle is: {perimeter}\")"
   ]
  },
  {
   "cell_type": "markdown",
   "id": "8e21d941",
   "metadata": {},
   "source": [
    "Multiple Arguments for a Function"
   ]
  },
  {
   "cell_type": "code",
   "execution_count": 16,
   "id": "0e88dc26",
   "metadata": {},
   "outputs": [],
   "source": [
    "def calculate_sum(*args):\n",
    "    total = sum(args)  # Using the built-in sum function to calculate the total\n",
    "    return total\n"
   ]
  },
  {
   "cell_type": "code",
   "execution_count": 17,
   "id": "11d8e682",
   "metadata": {},
   "outputs": [
    {
     "data": {
      "text/plain": [
       "15"
      ]
     },
     "execution_count": 17,
     "metadata": {},
     "output_type": "execute_result"
    }
   ],
   "source": [
    "calculate_sum(1, 2, 3, 4, 5)  # Calling the function with multiple arguments"
   ]
  },
  {
   "cell_type": "markdown",
   "id": "69547e18",
   "metadata": {},
   "source": [
    "Lambda Functions :: \n",
    "\n",
    "Lambda functions in Python are small, anonymous functions defined with the lambda keyword.\n",
    "\n",
    "lambda arguments: expression"
   ]
  },
  {
   "cell_type": "code",
   "execution_count": null,
   "id": "ccfe358d",
   "metadata": {},
   "outputs": [
    {
     "name": "stdout",
     "output_type": "stream",
     "text": [
      "25\n"
     ]
    }
   ],
   "source": [
    "square = lambda x:x ** 2  # Using a lambda function to define square\n",
    "print(square(5))\n",
    "\n",
    "# Lambda functions can have any number of arguments but only one expression."
   ]
  },
  {
   "cell_type": "code",
   "execution_count": 22,
   "id": "5c3c8496",
   "metadata": {},
   "outputs": [
    {
     "name": "stdout",
     "output_type": "stream",
     "text": [
      "50\n"
     ]
    }
   ],
   "source": [
    "calc_rectangle_area = lambda length, width: length * width\n",
    "print(calc_rectangle_area(5, 10))  # Calling the lambda function with length and width"
   ]
  },
  {
   "cell_type": "markdown",
   "id": "606af772",
   "metadata": {},
   "source": [
    "Modules\n"
   ]
  },
  {
   "cell_type": "code",
   "execution_count": 32,
   "id": "4c8e7acb",
   "metadata": {},
   "outputs": [
    {
     "name": "stdout",
     "output_type": "stream",
     "text": [
      "1\n",
      "9.430957432882748\n"
     ]
    }
   ],
   "source": [
    "import random\n",
    "\n",
    "random_number = random.randint(1,10)    # Generating a random integer between 1 and 10\n",
    "print(random_number)\n",
    "\n",
    "random_float = random.uniform(1, 10)  # Generating a random float between 1 and 10\n",
    "print(random_float)"
   ]
  },
  {
   "cell_type": "code",
   "execution_count": null,
   "id": "af6d16c7",
   "metadata": {},
   "outputs": [
    {
     "name": "stdout",
     "output_type": "stream",
     "text": [
      "5\n",
      "None\n",
      "[5, 3, 1, 4, 2]\n"
     ]
    }
   ],
   "source": [
    "from random import choice, shuffle\n",
    "\n",
    "my_list = [1, 2, 3, 4, 5]\n",
    "random_choice = choice(my_list)  # Randomly selecting an element from the list\n",
    "print(random_choice)\n",
    "\n",
    "shuffle(my_list)  # Shuffling the list in place\n",
    "print(my_list)  # Printing the shuffled list"
   ]
  },
  {
   "cell_type": "code",
   "execution_count": 42,
   "id": "fdeb8d0a",
   "metadata": {},
   "outputs": [
    {
     "data": {
      "text/plain": [
       "55"
      ]
     },
     "execution_count": 42,
     "metadata": {},
     "output_type": "execute_result"
    }
   ],
   "source": [
    "import random as rnd\n",
    "rnd.randint(1, 100)  # Generating a random integer between 1 and 100\n"
   ]
  },
  {
   "cell_type": "code",
   "execution_count": 45,
   "id": "9bc1a660",
   "metadata": {},
   "outputs": [
    {
     "data": {
      "text/plain": [
       "5.0"
      ]
     },
     "execution_count": 45,
     "metadata": {},
     "output_type": "execute_result"
    }
   ],
   "source": [
    "import math\n",
    "math.sqrt(25)  # Calculating the square root of 25"
   ]
  },
  {
   "cell_type": "code",
   "execution_count": 46,
   "id": "74fc3352",
   "metadata": {},
   "outputs": [
    {
     "data": {
      "text/plain": [
       "120"
      ]
     },
     "execution_count": 46,
     "metadata": {},
     "output_type": "execute_result"
    }
   ],
   "source": [
    "math.factorial(5)  # Calculating the factorial of 5\n"
   ]
  },
  {
   "cell_type": "markdown",
   "id": "ac302f06",
   "metadata": {},
   "source": [
    "Classes and Objects"
   ]
  },
  {
   "cell_type": "code",
   "execution_count": 2,
   "id": "b135c2ee",
   "metadata": {},
   "outputs": [],
   "source": [
    "class Dog:\n",
    "    def __init__(self, name, age): \n",
    "        # Characteristics of the Dog class\n",
    "        self.name = name  # Instance variable for the dog's name\n",
    "        self.age = age  # Instance variable for the dog's age\n",
    "\n",
    "    def bark(self):\n",
    "        # Method to make the dog bark\n",
    "        print(f\"{self.name} of {self.age} says Woof!\")"
   ]
  },
  {
   "cell_type": "code",
   "execution_count": 4,
   "id": "a826b703",
   "metadata": {},
   "outputs": [],
   "source": [
    "dog1 = Dog(\"Sky\", 3)  # Creating an instance of the Dog class\n",
    "dog2 = Dog(\"Pluto\", 5)  # Creating another instance of the Dog class\""
   ]
  },
  {
   "cell_type": "code",
   "execution_count": 5,
   "id": "b82634a3",
   "metadata": {},
   "outputs": [
    {
     "name": "stdout",
     "output_type": "stream",
     "text": [
      "Sky of 3 says Woof!\n"
     ]
    }
   ],
   "source": [
    "dog1.bark()\n"
   ]
  },
  {
   "cell_type": "code",
   "execution_count": 6,
   "id": "97fb2dd1",
   "metadata": {},
   "outputs": [
    {
     "name": "stdout",
     "output_type": "stream",
     "text": [
      "Pluto of 5 says Woof!\n"
     ]
    }
   ],
   "source": [
    "dog2.bark()"
   ]
  },
  {
   "cell_type": "code",
   "execution_count": null,
   "id": "e054f4e5",
   "metadata": {},
   "outputs": [],
   "source": []
  }
 ],
 "metadata": {
  "kernelspec": {
   "display_name": "Python 3",
   "language": "python",
   "name": "python3"
  },
  "language_info": {
   "codemirror_mode": {
    "name": "ipython",
    "version": 3
   },
   "file_extension": ".py",
   "mimetype": "text/x-python",
   "name": "python",
   "nbconvert_exporter": "python",
   "pygments_lexer": "ipython3",
   "version": "3.12.4"
  }
 },
 "nbformat": 4,
 "nbformat_minor": 5
}
