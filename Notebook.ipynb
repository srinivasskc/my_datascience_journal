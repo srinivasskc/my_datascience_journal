{
 "cells": [
  {
   "cell_type": "markdown",
   "id": "1054bc59",
   "metadata": {},
   "source": [
    "This is my first markdown"
   ]
  },
  {
   "cell_type": "code",
   "execution_count": 1,
   "id": "ceaecfd0",
   "metadata": {},
   "outputs": [
    {
     "name": "stdout",
     "output_type": "stream",
     "text": [
      "This is python script from notebook jupyter\n"
     ]
    }
   ],
   "source": [
    "print(\"This is python script from notebook jupyter\") # This is a simple comment"
   ]
  },
  {
   "cell_type": "code",
   "execution_count": 2,
   "id": "682da282",
   "metadata": {},
   "outputs": [],
   "source": [
    "# This is a simple Python script that prints a message."
   ]
  },
  {
   "cell_type": "markdown",
   "id": "03edf257",
   "metadata": {},
   "source": [
    "Variables and Data Types"
   ]
  },
  {
   "cell_type": "code",
   "execution_count": 3,
   "id": "53df5e78",
   "metadata": {},
   "outputs": [
    {
     "name": "stdout",
     "output_type": "stream",
     "text": [
      "Name: Srinivas, Type: <class 'str'>\n",
      "Age: 30, Type: <class 'int'>\n",
      "Height: 5.10, Type: <class 'float'>\n",
      "is_student: False, Type: <class 'bool'>\n"
     ]
    }
   ],
   "source": [
    "name = \"Srinivas\"\n",
    "type_of_name = type(name)\n",
    "\n",
    "\n",
    "age = 30\n",
    "type_of_age = type(age)\n",
    "\n",
    "height = 5.10\n",
    "type_of_height = type(height)\n",
    "\n",
    "print(f\"Name: {name}, Type: {type_of_name}\")\n",
    "print(f\"Age: {age}, Type: {type_of_age}\")\n",
    "print(f\"Height: {height:.2f}, Type: {type_of_height}\")\n",
    "\n",
    "is_student = False\n",
    "type_of_is_student = type(is_student)\n",
    "print(f\"is_student: {is_student}, Type: {type_of_is_student}\")\n",
    "\n"
   ]
  },
  {
   "cell_type": "code",
   "execution_count": 4,
   "id": "9714d5ce",
   "metadata": {},
   "outputs": [
    {
     "name": "stdout",
     "output_type": "stream",
     "text": [
      "Hello, World!\n"
     ]
    }
   ],
   "source": [
    "message = \"Hello, World!\"\n",
    "print(message)\n"
   ]
  },
  {
   "cell_type": "code",
   "execution_count": 5,
   "id": "1a8ca9cb",
   "metadata": {},
   "outputs": [
    {
     "name": "stdout",
     "output_type": "stream",
     "text": [
      "Number: 42, Type: <class 'int'>\n",
      "Number: 0, Type: <class 'int'>\n"
     ]
    }
   ],
   "source": [
    "number = 42\n",
    "type(number)\n",
    "print(f\"Number: {number}, Type: {type(number)}\")\n",
    "\n",
    "number = 0\n",
    "type(number)\n",
    "print(f\"Number: {number}, Type: {type(number)}\")\n"
   ]
  },
  {
   "cell_type": "code",
   "execution_count": 6,
   "id": "3dcde8c9",
   "metadata": {},
   "outputs": [
    {
     "name": "stdout",
     "output_type": "stream",
     "text": [
      "Clark\n",
      "30\n",
      "True\n",
      "Birthday Party\n",
      "2023-10-01\n",
      "18:00\n"
     ]
    }
   ],
   "source": [
    "name = \"Clark\"\n",
    "age = 30\n",
    "is_adult = True\n",
    "\n",
    "print(name)\n",
    "print(age)\n",
    "print(is_adult)\n",
    "\n",
    "event_name = \"Birthday Party\"\n",
    "event_date = \"2023-10-01\"\n",
    "event_time = \"18:00\"\n",
    "print(event_name)\n",
    "print(event_date)\n",
    "print(event_time)\n",
    "\n",
    "\n"
   ]
  },
  {
   "cell_type": "code",
   "execution_count": 7,
   "id": "20043cb1",
   "metadata": {},
   "outputs": [
    {
     "name": "stdout",
     "output_type": "stream",
     "text": [
      "This is a snake_case variable\n",
      "This is a CamelCase variable\n"
     ]
    }
   ],
   "source": [
    "snake_case_variable = \"This is a snake_case variable\"\n",
    "CamelCaseVariable = \"This is a CamelCase variable\"\n",
    "print(snake_case_variable)\n",
    "print(CamelCaseVariable)"
   ]
  },
  {
   "cell_type": "code",
   "execution_count": 29,
   "id": "ea33dc29",
   "metadata": {},
   "outputs": [
    {
     "name": "stdout",
     "output_type": "stream",
     "text": [
      "Addition Result: 30\n",
      "15\n",
      "Subtraction Result: 10\n"
     ]
    },
    {
     "data": {
      "text/plain": [
       "2.0"
      ]
     },
     "execution_count": 29,
     "metadata": {},
     "output_type": "execute_result"
    }
   ],
   "source": [
    "num1 = 10\n",
    "num2 = 20\n",
    "addition_result = num1 + num2\n",
    "print(\"Addition Result:\", addition_result)\n",
    "\n",
    "print(10+5)\n",
    "\n",
    "subtraction = num2 - num1\n",
    "print(\"Subtraction Result:\", subtraction)\n",
    "subtraction\n",
    "# In Jupyter notebook, no need to use print to display the result. we can directly write the variable name.\n",
    "\n",
    "# If we add like below, the last variable will be displayed as output - ignoring the multiplication variable.\n",
    "multiplication = num1 * num2\n",
    "multiplication\n",
    "\n",
    "division = num2 / num1\n",
    "division"
   ]
  },
  {
   "cell_type": "code",
   "execution_count": 24,
   "id": "d902dbf9",
   "metadata": {},
   "outputs": [
    {
     "data": {
      "text/plain": [
       "200"
      ]
     },
     "execution_count": 24,
     "metadata": {},
     "output_type": "execute_result"
    }
   ],
   "source": [
    "\n",
    "# Multiplication\n",
    "multiplication = num1 * num2\n",
    "multiplication\n"
   ]
  },
  {
   "cell_type": "code",
   "execution_count": 25,
   "id": "2c4723e0",
   "metadata": {},
   "outputs": [
    {
     "data": {
      "text/plain": [
       "2.0"
      ]
     },
     "execution_count": 25,
     "metadata": {},
     "output_type": "execute_result"
    }
   ],
   "source": [
    "\n",
    "# Division\n",
    "division = num2 / num1\n",
    "division"
   ]
  },
  {
   "cell_type": "code",
   "execution_count": 32,
   "id": "0310b8d8",
   "metadata": {},
   "outputs": [
    {
     "data": {
      "text/plain": [
       "1000"
      ]
     },
     "execution_count": 32,
     "metadata": {},
     "output_type": "execute_result"
    }
   ],
   "source": [
    "# Exponentiation\n",
    "exponentiation = num1 ** 3\n",
    "exponentiation"
   ]
  },
  {
   "cell_type": "code",
   "execution_count": 37,
   "id": "8033d9ea",
   "metadata": {},
   "outputs": [
    {
     "name": "stdout",
     "output_type": "stream",
     "text": [
      "Result of PEMDAS example: 9.0\n"
     ]
    }
   ],
   "source": [
    "# PEMDAS - \n",
    "# Parentheses, Exponents, Multiplication and Division (from left to right), \n",
    "# Addition and Subtraction (from left to right)\n",
    "\n",
    "# Example of PEMDAS\n",
    "result = (2 + 3) * (4 - 1) ** 2 / 5\n",
    "# 5 * 3 ** 2 / 5\n",
    "# 5 * 9 / 5\n",
    "# 45 / 5 \n",
    "print(\"Result of PEMDAS example:\", result)"
   ]
  },
  {
   "cell_type": "code",
   "execution_count": 44,
   "id": "cdd0a6ce",
   "metadata": {},
   "outputs": [
    {
     "data": {
      "text/plain": [
       "5"
      ]
     },
     "execution_count": 44,
     "metadata": {},
     "output_type": "execute_result"
    }
   ],
   "source": [
    "total = 0\n",
    "total += 5\n",
    "total\n",
    "\n",
    "\n"
   ]
  },
  {
   "cell_type": "code",
   "execution_count": 45,
   "id": "7802bc00",
   "metadata": {},
   "outputs": [
    {
     "data": {
      "text/plain": [
       "2"
      ]
     },
     "execution_count": 45,
     "metadata": {},
     "output_type": "execute_result"
    }
   ],
   "source": [
    "total -= 3 # total = total - 3\n",
    "total"
   ]
  },
  {
   "cell_type": "code",
   "execution_count": 46,
   "id": "7c2d6b05",
   "metadata": {},
   "outputs": [
    {
     "data": {
      "text/plain": [
       "6"
      ]
     },
     "execution_count": 46,
     "metadata": {},
     "output_type": "execute_result"
    }
   ],
   "source": [
    "total *= 3 # total = total * 3\n",
    "total"
   ]
  },
  {
   "cell_type": "code",
   "execution_count": 47,
   "id": "13336d13",
   "metadata": {},
   "outputs": [
    {
     "data": {
      "text/plain": [
       "2.0"
      ]
     },
     "execution_count": 47,
     "metadata": {},
     "output_type": "execute_result"
    }
   ],
   "source": [
    "total /= 3 # total = total / 3\n",
    "total"
   ]
  },
  {
   "cell_type": "code",
   "execution_count": 58,
   "id": "3540a050",
   "metadata": {},
   "outputs": [
    {
     "data": {
      "text/plain": [
       "False"
      ]
     },
     "execution_count": 58,
     "metadata": {},
     "output_type": "execute_result"
    }
   ],
   "source": [
    "# Comparison Operators\n",
    "x = 5\n",
    "y = 10\n",
    "\n",
    "# If x is equal to y\n",
    "result = (x == y)\n",
    "result = x == y\n",
    "\n",
    "result\n"
   ]
  },
  {
   "cell_type": "code",
   "execution_count": 60,
   "id": "e0bb781e",
   "metadata": {},
   "outputs": [
    {
     "data": {
      "text/plain": [
       "True"
      ]
     },
     "execution_count": 60,
     "metadata": {},
     "output_type": "execute_result"
    }
   ],
   "source": [
    "result1 = (x != y) # If x is not equal to y\n",
    "result1"
   ]
  },
  {
   "cell_type": "code",
   "execution_count": 67,
   "id": "78041bae",
   "metadata": {},
   "outputs": [
    {
     "name": "stdout",
     "output_type": "stream",
     "text": [
      "True\n",
      "False\n",
      "False\n",
      "True\n"
     ]
    }
   ],
   "source": [
    "a = 15\n",
    "b = 20\n",
    "\n",
    "result2 = (a < b)  # If a is less than b\n",
    "print(result2)\n",
    "\n",
    "result3 = (a > b)  # If a is greater than b\n",
    "print(result3)\n",
    "\n",
    "result4 = (a >= b)  # If a is greater than equalto b\n",
    "print(result4)\n",
    "\n",
    "\n",
    "result5 = (a <= b)  # If a is less than equalto b\n",
    "print(result5)"
   ]
  },
  {
   "cell_type": "code",
   "execution_count": 71,
   "id": "238150a3",
   "metadata": {},
   "outputs": [
    {
     "name": "stdout",
     "output_type": "stream",
     "text": [
      "True\n"
     ]
    }
   ],
   "source": [
    "num = 15\n",
    "result = 10 <= num <= 20  # If num is between 10 and 20 (inclusive)\n",
    "# 10 <= num and num <= 20 = True and True = True\n",
    "print(result)"
   ]
  },
  {
   "cell_type": "code",
   "execution_count": 72,
   "id": "51623e3b",
   "metadata": {},
   "outputs": [
    {
     "name": "stdout",
     "output_type": "stream",
     "text": [
      "False\n"
     ]
    }
   ],
   "source": [
    "num = 15\n",
    "result = 10 >= num >= 20  # Checks: 10 >= num and num >= 20 = False and False = False\n",
    "print(result)"
   ]
  },
  {
   "cell_type": "code",
   "execution_count": 76,
   "id": "18b5f9df",
   "metadata": {},
   "outputs": [
    {
     "name": "stdout",
     "output_type": "stream",
     "text": [
      "True\n",
      "False\n"
     ]
    }
   ],
   "source": [
    "variable1 = 10\n",
    "variable2 = 10\n",
    "is_variable_result = variable1 is variable2\n",
    "print(is_variable_result)\n",
    "\n",
    "is_not_variable_result = variable1 is not variable2\n",
    "print(is_not_variable_result)\n",
    "\n",
    "\n"
   ]
  },
  {
   "cell_type": "code",
   "execution_count": null,
   "id": "85c5b06b",
   "metadata": {},
   "outputs": [],
   "source": []
  }
 ],
 "metadata": {
  "kernelspec": {
   "display_name": "Python 3",
   "language": "python",
   "name": "python3"
  },
  "language_info": {
   "codemirror_mode": {
    "name": "ipython",
    "version": 3
   },
   "file_extension": ".py",
   "mimetype": "text/x-python",
   "name": "python",
   "nbconvert_exporter": "python",
   "pygments_lexer": "ipython3",
   "version": "3.12.4"
  }
 },
 "nbformat": 4,
 "nbformat_minor": 5
}
